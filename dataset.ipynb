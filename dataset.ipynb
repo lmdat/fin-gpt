{
 "cells": [
  {
   "cell_type": "code",
   "execution_count": 2,
   "id": "40101f44-0b78-4288-b0a3-9f0544c071a3",
   "metadata": {},
   "outputs": [],
   "source": [
    "import torch\n",
    "from torch import nn \n",
    "from torch.utils.data import Dataset, random_split\n",
    "\n",
    "from datasets import load_dataset\n",
    "from tokenizers import Tokenizer\n",
    "from tokenizers.models import WordLevel\n",
    "from tokenizers.trainers import WordLevelTrainer\n",
    "from tokenizers.pre_tokenizers import Whitespace\n",
    "\n",
    "from pathlib import Path\n",
    "import json, os"
   ]
  },
  {
   "cell_type": "code",
   "execution_count": 7,
   "id": "d54c875f-b093-46f3-95fc-8c23b348fe38",
   "metadata": {},
   "outputs": [],
   "source": [
    "class BilingualDataset(Dataset):\n",
    "\n",
    "    def __init__(self, ds, tokenizer_src, tokenizer_tgt, src_lang, tgt_lang, seq_len):\n",
    "        super().__init__()\n",
    "        self.seq_len = seq_len\n",
    "\n",
    "        self.ds = ds\n",
    "        self.tokenizer_src = tokenizer_src\n",
    "        self.tokenizer_tgt = tokenizer_tgt\n",
    "        self.src_lang = src_lang\n",
    "        self.tgt_lang = tgt_lang\n",
    "\n",
    "        self.sos_token = torch.tensor([tokenizer_tgt.token_to_id(\"[SOS]\")], dtype=torch.int64)\n",
    "        self.eos_token = torch.tensor([tokenizer_tgt.token_to_id(\"[EOS]\")], dtype=torch.int64)\n",
    "        self.pad_token = torch.tensor([tokenizer_tgt.token_to_id(\"[PAD]\")], dtype=torch.int64)\n",
    "\n",
    "    def __len__(self):\n",
    "        return len(self.ds)\n",
    "\n",
    "    def __getitem__(self, idx):\n",
    "        src_target_pair = self.ds[idx]\n",
    "        src_text = src_target_pair['translation'][self.src_lang]\n",
    "        tgt_text = src_target_pair['translation'][self.tgt_lang]\n",
    "\n",
    "        # Transform the text into tokens\n",
    "        enc_input_tokens = self.tokenizer_src.encode(src_text).ids\n",
    "        dec_input_tokens = self.tokenizer_tgt.encode(tgt_text).ids\n",
    "\n",
    "        # Add sos, eos and padding to each sentence\n",
    "        enc_num_padding_tokens = self.seq_len - len(enc_input_tokens) - 2  # We will add <s> and </s>\n",
    "        # We will only add <s>, and </s> only on the label\n",
    "        dec_num_padding_tokens = self.seq_len - len(dec_input_tokens) - 1\n",
    "\n",
    "        # Make sure the number of padding tokens is not negative. If it is, the sentence is too long\n",
    "        if enc_num_padding_tokens < 0 or dec_num_padding_tokens < 0:\n",
    "            raise ValueError(\"Sentence is too long\")\n",
    "\n",
    "        # Add <s> and </s> token\n",
    "        encoder_input = torch.cat(\n",
    "            [\n",
    "                self.sos_token,\n",
    "                torch.tensor(enc_input_tokens, dtype=torch.int64),\n",
    "                self.eos_token,\n",
    "                torch.tensor([self.pad_token] * enc_num_padding_tokens, dtype=torch.int64),\n",
    "            ],\n",
    "            dim=0,\n",
    "        )\n",
    "\n",
    "        # Add only <s> token\n",
    "        decoder_input = torch.cat(\n",
    "            [\n",
    "                self.sos_token,\n",
    "                torch.tensor(dec_input_tokens, dtype=torch.int64),\n",
    "                torch.tensor([self.pad_token] * dec_num_padding_tokens, dtype=torch.int64),\n",
    "            ],\n",
    "            dim=0,\n",
    "        )\n",
    "\n",
    "        # Add only </s> token\n",
    "        label = torch.cat(\n",
    "            [\n",
    "                torch.tensor(dec_input_tokens, dtype=torch.int64),\n",
    "                self.eos_token,\n",
    "                torch.tensor([self.pad_token] * dec_num_padding_tokens, dtype=torch.int64),\n",
    "            ],\n",
    "            dim=0,\n",
    "        )\n",
    "\n",
    "        # Double check the size of the tensors to make sure they are all seq_len long\n",
    "        assert encoder_input.size(0) == self.seq_len\n",
    "        assert decoder_input.size(0) == self.seq_len\n",
    "        assert label.size(0) == self.seq_len\n",
    "\n",
    "        return {\n",
    "            \"encoder_input\": encoder_input,  # (seq_len)\n",
    "            \"decoder_input\": decoder_input,  # (seq_len)\n",
    "            \"encoder_mask\": (encoder_input != self.pad_token).unsqueeze(0).unsqueeze(0).int(), # (1, 1, seq_len)\n",
    "            \"decoder_mask\": (decoder_input != self.pad_token).unsqueeze(0).int() & causal_mask(decoder_input.size(0)), # (1, seq_len) & (1, seq_len, seq_len),\n",
    "            \"label\": label,  # (seq_len)\n",
    "            \"src_text\": src_text,\n",
    "            \"tgt_text\": tgt_text,\n",
    "        }\n",
    "    \n",
    "def causal_mask(size):\n",
    "    mask = torch.triu(torch.ones((1, size, size)), diagonal=1).type(torch.int)\n",
    "    return mask == 0"
   ]
  },
  {
   "cell_type": "code",
   "execution_count": 10,
   "id": "07286985-fc1f-4ee0-a46e-f850f19201d6",
   "metadata": {},
   "outputs": [],
   "source": [
    "def get_or_build_tokenizer(config, ds, lang):\n",
    "    tokenizer_path = Path(config['tokenizer_file'].format(lang))\n",
    "    if not Path.exists(tokenizer_path):\n",
    "        # Most code taken from: https://huggingface.co/docs/tokenizers/quicktour\n",
    "        tokenizer = Tokenizer(WordLevel(unk_token=\"[UNK]\"))\n",
    "        tokenizer.pre_tokenizer = Whitespace()\n",
    "        trainer = WordLevelTrainer(special_tokens=[\"[UNK]\", \"[PAD]\", \"[SOS]\", \"[EOS]\"], min_frequency=2)\n",
    "        tokenizer.train_from_iterator(get_all_sentences(ds, lang), trainer=trainer)\n",
    "        tokenizer.save(str(tokenizer_path))\n",
    "    else:\n",
    "        tokenizer = Tokenizer.from_file(str(tokenizer_path))\n",
    "    return tokenizer"
   ]
  },
  {
   "cell_type": "code",
   "execution_count": 23,
   "id": "e13b72ab-4f77-41fa-98d5-b52ec83ad378",
   "metadata": {},
   "outputs": [],
   "source": [
    "def get_all_sentences(ds, lang):\n",
    "    for item in ds:\n",
    "        yield item['translation'][lang]"
   ]
  },
  {
   "cell_type": "code",
   "execution_count": 25,
   "id": "49866076-c0e4-47aa-b449-b5bcba0dd792",
   "metadata": {},
   "outputs": [],
   "source": [
    "def get_ds(config):\n",
    "    # It only has the train split, so we divide it overselves\n",
    "    ds_raw = load_dataset(f\"{config['datasource']}\", f\"{config['lang_src']}-{config['lang_tgt']}\", split='train')\n",
    "    # print(ds_raw)\n",
    "    # for i, item in enumerate(ds_raw):\n",
    "    #     if i == 10:\n",
    "    #         break\n",
    "    #     print(item['translation']['it'])\n",
    "    # Build tokenizers\n",
    "    tokenizer_src = get_or_build_tokenizer(config, ds_raw, config['lang_src'])\n",
    "    tokenizer_tgt = get_or_build_tokenizer(config, ds_raw, config['lang_tgt'])\n",
    "\n",
    "    # # Keep 90% for training, 10% for validation\n",
    "    train_ds_size = int(0.9 * len(ds_raw))\n",
    "    val_ds_size = len(ds_raw) - train_ds_size\n",
    "    train_ds_raw, val_ds_raw = random_split(ds_raw, [train_ds_size, val_ds_size])\n",
    "\n",
    "    train_ds = BilingualDataset(train_ds_raw, tokenizer_src, tokenizer_tgt, config['lang_src'], config['lang_tgt'], config['seq_len'])\n",
    "    val_ds = BilingualDataset(val_ds_raw, tokenizer_src, tokenizer_tgt, config['lang_src'], config['lang_tgt'], config['seq_len'])\n",
    "\n",
    "    # Find the maximum length of each sentence in the source and target sentence\n",
    "    max_len_src = 0\n",
    "    max_len_tgt = 0\n",
    "\n",
    "    for item in ds_raw:\n",
    "        src_ids = tokenizer_src.encode(item['translation'][config['lang_src']]).ids\n",
    "        tgt_ids = tokenizer_tgt.encode(item['translation'][config['lang_tgt']]).ids\n",
    "        max_len_src = max(max_len_src, len(src_ids))\n",
    "        max_len_tgt = max(max_len_tgt, len(tgt_ids))\n",
    "\n",
    "    print(f'Max length of source sentence: {max_len_src}')\n",
    "    print(f'Max length of target sentence: {max_len_tgt}')\n",
    "    \n",
    "\n",
    "    train_dataloader = DataLoader(train_ds, batch_size=config['batch_size'], shuffle=True)\n",
    "    val_dataloader = DataLoader(val_ds, batch_size=1, shuffle=True)\n",
    "\n",
    "    return train_dataloader, val_dataloader, tokenizer_src, tokenizer_tgt"
   ]
  },
  {
   "cell_type": "code",
   "execution_count": 11,
   "id": "6fcde0d2-0d54-4ada-98ca-a022e21c3564",
   "metadata": {},
   "outputs": [],
   "source": [
    "def get_config():\n",
    "    return {\n",
    "        \"batch_size\": 8,\n",
    "        \"num_epochs\": 20,\n",
    "        \"lr\": 10**-4,\n",
    "        \"seq_len\": 350,\n",
    "        \"d_model\": 512,\n",
    "        \"datasource\": 'opus_books',\n",
    "        \"lang_src\": \"en\",\n",
    "        \"lang_tgt\": \"it\",\n",
    "        \"model_folder\": \"weights\",\n",
    "        \"model_basename\": \"tmodel_\",\n",
    "        \"preload\": \"latest\",\n",
    "        \"tokenizer_file\": \"tokenizer_{0}.json\",\n",
    "        \"experiment_name\": \"runs/tmodel\"\n",
    "    }"
   ]
  },
  {
   "cell_type": "code",
   "execution_count": 26,
   "id": "5939a096-bd86-4e07-a48b-78da3c996cec",
   "metadata": {},
   "outputs": [
    {
     "data": {
      "text/plain": [
       "True"
      ]
     },
     "execution_count": 26,
     "metadata": {},
     "output_type": "execute_result"
    }
   ],
   "source": [
    "config = get_config()\n",
    "get_ds(config)"
   ]
  },
  {
   "cell_type": "code",
   "execution_count": 117,
   "id": "b2ae907c-cb25-4b19-b963-00d0cd241298",
   "metadata": {},
   "outputs": [],
   "source": [
    "def load_sentences_dataset(input_file:str) -> tuple[list, set, int]:\n",
    "    sentences = []\n",
    "    tokens = set()\n",
    "    max_seq_len = 0\n",
    "    with open(input_file, mode='r', encoding='utf-8') as f:\n",
    "        for line in f:\n",
    "            sent_dict = json.loads(line.strip())\n",
    "            sentences.append(sent_dict['sentence'])\n",
    "            max_seq_len = max(max_seq_len, sent_dict['word_count'])\n",
    "            tokens.update(sent_dict['sentence'])\n",
    "        f.close()\n",
    "    return sentences, tokens, max_seq_len"
   ]
  },
  {
   "cell_type": "code",
   "execution_count": 122,
   "id": "6da5eef6-d265-44f3-ab91-cb2e6d96e92f",
   "metadata": {},
   "outputs": [],
   "source": [
    "def create_vocab_ids(tokens:set, special_tokens:list=None, vocab_file:str=None, forced:bool=False) -> tuple[dict, int]:\n",
    "    if forced == False and vocab_file != None and os.path.exists(vocab_file):\n",
    "        with open(vocab_file, mode='r', encoding='utf-8') as f:\n",
    "            vocab = json.loads(f.read().strip())\n",
    "            f.close()\n",
    "            print(f\"Load vocab from file: {vocab_file}\")\n",
    "        return vocab, len(vocab)\n",
    "\n",
    "    vocab = {}\n",
    "    start_idx = 0\n",
    "    if special_tokens == None:\n",
    "        vocab = {\n",
    "            \"<SOS>\": 0,\n",
    "            \"<EOS>\": 1,\n",
    "            \"<PAD>\": 2,\n",
    "            \"<UNK>\": 3\n",
    "        }\n",
    "        start_idx = 4\n",
    "    else:\n",
    "        for i, token in enumerate(special_tokens):\n",
    "            vocab[token] = i\n",
    "        start_idx = len(special_tokens)\n",
    "        \n",
    "    for i, token in enumerate(tokens, start_idx):\n",
    "        vocab[token] = i\n",
    "        \n",
    "    with open(vocab_file, mode='w', encoding='utf-8') as f:\n",
    "        str_json = json.dumps(vocab, ensure_ascii=False).encode('utf-8')\n",
    "        f.write(str_json.decode())\n",
    "        f.close()\n",
    "    return vocab, len(vocab)"
   ]
  },
  {
   "cell_type": "code",
   "execution_count": null,
   "id": "cc38c47c-9e03-46d5-954c-b8def0385f9c",
   "metadata": {},
   "outputs": [],
   "source": [
    "# %%timeit \n",
    "src_file = \"data/viwiki-words.txt\"\n",
    "vocab_file = \"data/viwiki-vocab.json\"\n",
    "sentences, tokens, max_seq_len = load_sentences_dataset(src_file)\n",
    "create_vocab_ids(tokens, vocab_file=vocab_file)"
   ]
  },
  {
   "cell_type": "code",
   "execution_count": 1,
   "id": "c4f04618-55c2-4237-8ee7-950b48bba52c",
   "metadata": {},
   "outputs": [],
   "source": [
    "from underthesea import word_tokenize, sent_tokenize\n",
    "import string"
   ]
  },
  {
   "cell_type": "code",
   "execution_count": 22,
   "id": "4ce55303-bf87-4d0c-b111-e8f08c538ed3",
   "metadata": {},
   "outputs": [],
   "source": [
    "def _replace_ending_sentence(sent:str):\n",
    "    patterns = {\n",
    "        '?.': '?',\n",
    "        '!.': '!',\n",
    "        '...': '.',\n",
    "        '....': '.'\n",
    "    }\n",
    "    for k, v in patterns.items():\n",
    "        if sent.endswith(k):\n",
    "            sent = sent.replace(k, v)\n",
    "    return sent"
   ]
  },
  {
   "cell_type": "code",
   "execution_count": 29,
   "id": "b26f4b40-a9e3-4bee-8bfb-116006c3aa4d",
   "metadata": {},
   "outputs": [],
   "source": [
    "txt = \"Phiên trước đó, giá mỗi loại đã giảm hơn 3%. Thị trường đi xuống khi nhà đầu tư lo ngại nguồn cung năm nay tăng lên, trong bối cảnh nhu cầu dầu tại Mỹ có khả năng yếu đi.\""
   ]
  },
  {
   "cell_type": "code",
   "execution_count": 30,
   "id": "ae56127a-b494-4222-a7de-cc7b2c11c1da",
   "metadata": {},
   "outputs": [
    {
     "name": "stdout",
     "output_type": "stream",
     "text": [
      "Phiên trước đó, giá mỗi loại đã giảm hơn 3%.\n",
      "Thị trường đi xuống khi nhà đầu tư lo ngại nguồn cung năm nay tăng lên, trong bối cảnh nhu cầu dầu tại Mỹ có khả năng yếu đi.\n"
     ]
    }
   ],
   "source": [
    "for sent in sent_tokenize(txt):\n",
    "    print(_replace_ending_sentence(sent))"
   ]
  },
  {
   "cell_type": "code",
   "execution_count": 34,
   "id": "ccdacea3-f34f-407c-8cca-9bcab1e0fca1",
   "metadata": {},
   "outputs": [
    {
     "data": {
      "text/plain": [
       "'export/fin_ttt_sentences.txt'"
      ]
     },
     "execution_count": 34,
     "metadata": {},
     "output_type": "execute_result"
    }
   ],
   "source": [
    "output_file = \"export/fin_{0}_sentences.txt\"\n",
    "output_file.format('ttt')"
   ]
  },
  {
   "cell_type": "code",
   "execution_count": null,
   "id": "da2b1ba7-a108-4c4f-94e8-e06b80dea356",
   "metadata": {},
   "outputs": [],
   "source": [
    "tokens = word_tokenize(txt)\n",
    "tokens, set(tokens)"
   ]
  },
  {
   "cell_type": "code",
   "execution_count": 2,
   "id": "c19a6f7e-5202-4fae-a933-12539a9926fa",
   "metadata": {},
   "outputs": [
    {
     "data": {
      "text/plain": [
       "'!\"#$%&\\'()*+,-./:;<=>?@[\\\\]^_`{|}~'"
      ]
     },
     "execution_count": 2,
     "metadata": {},
     "output_type": "execute_result"
    }
   ],
   "source": [
    "string.punctuation"
   ]
  }
 ],
 "metadata": {
  "kernelspec": {
   "display_name": "Python 3 (ipykernel)",
   "language": "python",
   "name": "python3"
  },
  "language_info": {
   "codemirror_mode": {
    "name": "ipython",
    "version": 3
   },
   "file_extension": ".py",
   "mimetype": "text/x-python",
   "name": "python",
   "nbconvert_exporter": "python",
   "pygments_lexer": "ipython3",
   "version": "3.11.8"
  }
 },
 "nbformat": 4,
 "nbformat_minor": 5
}
