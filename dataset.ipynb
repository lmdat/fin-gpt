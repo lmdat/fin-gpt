{
 "cells": [
  {
   "cell_type": "code",
   "execution_count": 18,
   "id": "40101f44-0b78-4288-b0a3-9f0544c071a3",
   "metadata": {},
   "outputs": [
    {
     "ename": "ModuleNotFoundError",
     "evalue": "No module named 'datasets'",
     "output_type": "error",
     "traceback": [
      "\u001b[1;31m---------------------------------------------------------------------------\u001b[0m",
      "\u001b[1;31mModuleNotFoundError\u001b[0m                       Traceback (most recent call last)",
      "Cell \u001b[1;32mIn[18], line 7\u001b[0m\n\u001b[0;32m      4\u001b[0m \u001b[38;5;28;01mfrom\u001b[39;00m \u001b[38;5;21;01mtorch\u001b[39;00m\u001b[38;5;21;01m.\u001b[39;00m\u001b[38;5;21;01moptim\u001b[39;00m \u001b[38;5;28;01mimport\u001b[39;00m lr_scheduler\n\u001b[0;32m      5\u001b[0m \u001b[38;5;28;01mfrom\u001b[39;00m \u001b[38;5;21;01mtorch\u001b[39;00m\u001b[38;5;21;01m.\u001b[39;00m\u001b[38;5;21;01mutils\u001b[39;00m\u001b[38;5;21;01m.\u001b[39;00m\u001b[38;5;21;01mdata\u001b[39;00m \u001b[38;5;28;01mimport\u001b[39;00m Dataset, random_split\n\u001b[1;32m----> 7\u001b[0m \u001b[38;5;28;01mfrom\u001b[39;00m \u001b[38;5;21;01mdatasets\u001b[39;00m \u001b[38;5;28;01mimport\u001b[39;00m load_dataset\n\u001b[0;32m      8\u001b[0m \u001b[38;5;28;01mfrom\u001b[39;00m \u001b[38;5;21;01mtokenizers\u001b[39;00m \u001b[38;5;28;01mimport\u001b[39;00m Tokenizer\n\u001b[0;32m      9\u001b[0m \u001b[38;5;28;01mfrom\u001b[39;00m \u001b[38;5;21;01mtokenizers\u001b[39;00m\u001b[38;5;21;01m.\u001b[39;00m\u001b[38;5;21;01mmodels\u001b[39;00m \u001b[38;5;28;01mimport\u001b[39;00m WordLevel\n",
      "\u001b[1;31mModuleNotFoundError\u001b[0m: No module named 'datasets'"
     ]
    }
   ],
   "source": [
    "import torch\n",
    "from torch import nn \n",
    "from torch import optim\n",
    "from torch.optim import lr_scheduler\n",
    "from torch.utils.data import Dataset, random_split\n",
    "\n",
    "from datasets import load_dataset\n",
    "from tokenizers import Tokenizer\n",
    "from tokenizers.models import WordLevel\n",
    "from tokenizers.trainers import WordLevelTrainer\n",
    "from tokenizers.pre_tokenizers import Whitespace\n",
    "\n",
    "from pathlib import Path\n",
    "import json, os"
   ]
  },
  {
   "cell_type": "code",
   "execution_count": 7,
   "id": "d54c875f-b093-46f3-95fc-8c23b348fe38",
   "metadata": {},
   "outputs": [],
   "source": [
    "class BilingualDataset(Dataset):\n",
    "\n",
    "    def __init__(self, ds, tokenizer_src, tokenizer_tgt, src_lang, tgt_lang, seq_len):\n",
    "        super().__init__()\n",
    "        self.seq_len = seq_len\n",
    "\n",
    "        self.ds = ds\n",
    "        self.tokenizer_src = tokenizer_src\n",
    "        self.tokenizer_tgt = tokenizer_tgt\n",
    "        self.src_lang = src_lang\n",
    "        self.tgt_lang = tgt_lang\n",
    "\n",
    "        self.sos_token = torch.tensor([tokenizer_tgt.token_to_id(\"[SOS]\")], dtype=torch.int64)\n",
    "        self.eos_token = torch.tensor([tokenizer_tgt.token_to_id(\"[EOS]\")], dtype=torch.int64)\n",
    "        self.pad_token = torch.tensor([tokenizer_tgt.token_to_id(\"[PAD]\")], dtype=torch.int64)\n",
    "\n",
    "    def __len__(self):\n",
    "        return len(self.ds)\n",
    "\n",
    "    def __getitem__(self, idx):\n",
    "        src_target_pair = self.ds[idx]\n",
    "        src_text = src_target_pair['translation'][self.src_lang]\n",
    "        tgt_text = src_target_pair['translation'][self.tgt_lang]\n",
    "\n",
    "        # Transform the text into tokens\n",
    "        enc_input_tokens = self.tokenizer_src.encode(src_text).ids\n",
    "        dec_input_tokens = self.tokenizer_tgt.encode(tgt_text).ids\n",
    "\n",
    "        # Add sos, eos and padding to each sentence\n",
    "        enc_num_padding_tokens = self.seq_len - len(enc_input_tokens) - 2  # We will add <s> and </s>\n",
    "        # We will only add <s>, and </s> only on the label\n",
    "        dec_num_padding_tokens = self.seq_len - len(dec_input_tokens) - 1\n",
    "\n",
    "        # Make sure the number of padding tokens is not negative. If it is, the sentence is too long\n",
    "        if enc_num_padding_tokens < 0 or dec_num_padding_tokens < 0:\n",
    "            raise ValueError(\"Sentence is too long\")\n",
    "\n",
    "        # Add <s> and </s> token\n",
    "        encoder_input = torch.cat(\n",
    "            [\n",
    "                self.sos_token,\n",
    "                torch.tensor(enc_input_tokens, dtype=torch.int64),\n",
    "                self.eos_token,\n",
    "                torch.tensor([self.pad_token] * enc_num_padding_tokens, dtype=torch.int64),\n",
    "            ],\n",
    "            dim=0,\n",
    "        )\n",
    "\n",
    "        # Add only <s> token\n",
    "        decoder_input = torch.cat(\n",
    "            [\n",
    "                self.sos_token,\n",
    "                torch.tensor(dec_input_tokens, dtype=torch.int64),\n",
    "                torch.tensor([self.pad_token] * dec_num_padding_tokens, dtype=torch.int64),\n",
    "            ],\n",
    "            dim=0,\n",
    "        )\n",
    "\n",
    "        # Add only </s> token\n",
    "        label = torch.cat(\n",
    "            [\n",
    "                torch.tensor(dec_input_tokens, dtype=torch.int64),\n",
    "                self.eos_token,\n",
    "                torch.tensor([self.pad_token] * dec_num_padding_tokens, dtype=torch.int64),\n",
    "            ],\n",
    "            dim=0,\n",
    "        )\n",
    "\n",
    "        # Double check the size of the tensors to make sure they are all seq_len long\n",
    "        assert encoder_input.size(0) == self.seq_len\n",
    "        assert decoder_input.size(0) == self.seq_len\n",
    "        assert label.size(0) == self.seq_len\n",
    "\n",
    "        return {\n",
    "            \"encoder_input\": encoder_input,  # (seq_len)\n",
    "            \"decoder_input\": decoder_input,  # (seq_len)\n",
    "            \"encoder_mask\": (encoder_input != self.pad_token).unsqueeze(0).unsqueeze(0).int(), # (1, 1, seq_len)\n",
    "            \"decoder_mask\": (decoder_input != self.pad_token).unsqueeze(0).int() & causal_mask(decoder_input.size(0)), # (1, seq_len) & (1, seq_len, seq_len),\n",
    "            \"label\": label,  # (seq_len)\n",
    "            \"src_text\": src_text,\n",
    "            \"tgt_text\": tgt_text,\n",
    "        }\n",
    "    \n",
    "def causal_mask(size):\n",
    "    mask = torch.triu(torch.ones((1, size, size)), diagonal=1).type(torch.int)\n",
    "    return mask == 0"
   ]
  },
  {
   "cell_type": "code",
   "execution_count": 10,
   "id": "07286985-fc1f-4ee0-a46e-f850f19201d6",
   "metadata": {},
   "outputs": [],
   "source": [
    "def get_or_build_tokenizer(config, ds, lang):\n",
    "    tokenizer_path = Path(config['tokenizer_file'].format(lang))\n",
    "    if not Path.exists(tokenizer_path):\n",
    "        # Most code taken from: https://huggingface.co/docs/tokenizers/quicktour\n",
    "        tokenizer = Tokenizer(WordLevel(unk_token=\"[UNK]\"))\n",
    "        tokenizer.pre_tokenizer = Whitespace()\n",
    "        trainer = WordLevelTrainer(special_tokens=[\"[UNK]\", \"[PAD]\", \"[SOS]\", \"[EOS]\"], min_frequency=2)\n",
    "        tokenizer.train_from_iterator(get_all_sentences(ds, lang), trainer=trainer)\n",
    "        tokenizer.save(str(tokenizer_path))\n",
    "    else:\n",
    "        tokenizer = Tokenizer.from_file(str(tokenizer_path))\n",
    "    return tokenizer"
   ]
  },
  {
   "cell_type": "code",
   "execution_count": 23,
   "id": "e13b72ab-4f77-41fa-98d5-b52ec83ad378",
   "metadata": {},
   "outputs": [],
   "source": [
    "def get_all_sentences(ds, lang):\n",
    "    for item in ds:\n",
    "        yield item['translation'][lang]"
   ]
  },
  {
   "cell_type": "code",
   "execution_count": 25,
   "id": "49866076-c0e4-47aa-b449-b5bcba0dd792",
   "metadata": {},
   "outputs": [],
   "source": [
    "def get_ds(config):\n",
    "    # It only has the train split, so we divide it overselves\n",
    "    ds_raw = load_dataset(f\"{config['datasource']}\", f\"{config['lang_src']}-{config['lang_tgt']}\", split='train')\n",
    "    # print(ds_raw)\n",
    "    # for i, item in enumerate(ds_raw):\n",
    "    #     if i == 10:\n",
    "    #         break\n",
    "    #     print(item['translation']['it'])\n",
    "    # Build tokenizers\n",
    "    tokenizer_src = get_or_build_tokenizer(config, ds_raw, config['lang_src'])\n",
    "    tokenizer_tgt = get_or_build_tokenizer(config, ds_raw, config['lang_tgt'])\n",
    "\n",
    "    # # Keep 90% for training, 10% for validation\n",
    "    train_ds_size = int(0.9 * len(ds_raw))\n",
    "    val_ds_size = len(ds_raw) - train_ds_size\n",
    "    train_ds_raw, val_ds_raw = random_split(ds_raw, [train_ds_size, val_ds_size])\n",
    "\n",
    "    train_ds = BilingualDataset(train_ds_raw, tokenizer_src, tokenizer_tgt, config['lang_src'], config['lang_tgt'], config['seq_len'])\n",
    "    val_ds = BilingualDataset(val_ds_raw, tokenizer_src, tokenizer_tgt, config['lang_src'], config['lang_tgt'], config['seq_len'])\n",
    "\n",
    "    # Find the maximum length of each sentence in the source and target sentence\n",
    "    max_len_src = 0\n",
    "    max_len_tgt = 0\n",
    "\n",
    "    for item in ds_raw:\n",
    "        src_ids = tokenizer_src.encode(item['translation'][config['lang_src']]).ids\n",
    "        tgt_ids = tokenizer_tgt.encode(item['translation'][config['lang_tgt']]).ids\n",
    "        max_len_src = max(max_len_src, len(src_ids))\n",
    "        max_len_tgt = max(max_len_tgt, len(tgt_ids))\n",
    "\n",
    "    print(f'Max length of source sentence: {max_len_src}')\n",
    "    print(f'Max length of target sentence: {max_len_tgt}')\n",
    "    \n",
    "\n",
    "    train_dataloader = DataLoader(train_ds, batch_size=config['batch_size'], shuffle=True)\n",
    "    val_dataloader = DataLoader(val_ds, batch_size=1, shuffle=True)\n",
    "\n",
    "    return train_dataloader, val_dataloader, tokenizer_src, tokenizer_tgt"
   ]
  },
  {
   "cell_type": "code",
   "execution_count": 11,
   "id": "6fcde0d2-0d54-4ada-98ca-a022e21c3564",
   "metadata": {},
   "outputs": [],
   "source": [
    "def get_config():\n",
    "    return {\n",
    "        \"batch_size\": 8,\n",
    "        \"num_epochs\": 20,\n",
    "        \"lr\": 10**-4,\n",
    "        \"seq_len\": 350,\n",
    "        \"d_model\": 512,\n",
    "        \"datasource\": 'opus_books',\n",
    "        \"lang_src\": \"en\",\n",
    "        \"lang_tgt\": \"it\",\n",
    "        \"model_folder\": \"weights\",\n",
    "        \"model_basename\": \"tmodel_\",\n",
    "        \"preload\": \"latest\",\n",
    "        \"tokenizer_file\": \"tokenizer_{0}.json\",\n",
    "        \"experiment_name\": \"runs/tmodel\"\n",
    "    }"
   ]
  },
  {
   "cell_type": "code",
   "execution_count": 26,
   "id": "5939a096-bd86-4e07-a48b-78da3c996cec",
   "metadata": {},
   "outputs": [
    {
     "data": {
      "text/plain": [
       "True"
      ]
     },
     "execution_count": 26,
     "metadata": {},
     "output_type": "execute_result"
    }
   ],
   "source": [
    "config = get_config()\n",
    "get_ds(config)"
   ]
  },
  {
   "cell_type": "code",
   "execution_count": 117,
   "id": "b2ae907c-cb25-4b19-b963-00d0cd241298",
   "metadata": {},
   "outputs": [],
   "source": [
    "def load_sentences_dataset(input_file:str) -> tuple[list, set, int]:\n",
    "    sentences = []\n",
    "    tokens = set()\n",
    "    max_seq_len = 0\n",
    "    with open(input_file, mode='r', encoding='utf-8') as f:\n",
    "        for line in f:\n",
    "            sent_dict = json.loads(line.strip())\n",
    "            sentences.append(sent_dict['sentence'])\n",
    "            max_seq_len = max(max_seq_len, sent_dict['word_count'])\n",
    "            tokens.update(sent_dict['sentence'])\n",
    "        f.close()\n",
    "    return sentences, tokens, max_seq_len"
   ]
  },
  {
   "cell_type": "code",
   "execution_count": 122,
   "id": "6da5eef6-d265-44f3-ab91-cb2e6d96e92f",
   "metadata": {},
   "outputs": [],
   "source": [
    "def create_vocab_ids(tokens:set, special_tokens:list=None, vocab_file:str=None, forced:bool=False) -> tuple[dict, int]:\n",
    "    if forced == False and vocab_file != None and os.path.exists(vocab_file):\n",
    "        with open(vocab_file, mode='r', encoding='utf-8') as f:\n",
    "            vocab = json.loads(f.read().strip())\n",
    "            f.close()\n",
    "            print(f\"Load vocab from file: {vocab_file}\")\n",
    "        return vocab, len(vocab)\n",
    "\n",
    "    vocab = {}\n",
    "    start_idx = 0\n",
    "    if special_tokens == None:\n",
    "        vocab = {\n",
    "            \"<SOS>\": 0,\n",
    "            \"<EOS>\": 1,\n",
    "            \"<PAD>\": 2,\n",
    "            \"<UNK>\": 3\n",
    "        }\n",
    "        start_idx = 4\n",
    "    else:\n",
    "        for i, token in enumerate(special_tokens):\n",
    "            vocab[token] = i\n",
    "        start_idx = len(special_tokens)\n",
    "        \n",
    "    for i, token in enumerate(tokens, start_idx):\n",
    "        vocab[token] = i\n",
    "        \n",
    "    with open(vocab_file, mode='w', encoding='utf-8') as f:\n",
    "        str_json = json.dumps(vocab, ensure_ascii=False).encode('utf-8')\n",
    "        f.write(str_json.decode())\n",
    "        f.close()\n",
    "    return vocab, len(vocab)"
   ]
  },
  {
   "cell_type": "code",
   "execution_count": null,
   "id": "cc38c47c-9e03-46d5-954c-b8def0385f9c",
   "metadata": {},
   "outputs": [],
   "source": [
    "# %%timeit \n",
    "src_file = \"data/viwiki-words.txt\"\n",
    "vocab_file = \"data/viwiki-vocab.json\"\n",
    "sentences, tokens, max_seq_len = load_sentences_dataset(src_file)\n",
    "create_vocab_ids(tokens, vocab_file=vocab_file)"
   ]
  },
  {
   "cell_type": "code",
   "execution_count": 1,
   "id": "c4f04618-55c2-4237-8ee7-950b48bba52c",
   "metadata": {},
   "outputs": [],
   "source": [
    "from underthesea import word_tokenize, sent_tokenize\n",
    "import string"
   ]
  },
  {
   "cell_type": "code",
   "execution_count": 22,
   "id": "4ce55303-bf87-4d0c-b111-e8f08c538ed3",
   "metadata": {},
   "outputs": [],
   "source": [
    "def _replace_ending_sentence(sent:str):\n",
    "    patterns = {\n",
    "        '?.': '?',\n",
    "        '!.': '!',\n",
    "        '...': '.',\n",
    "        '....': '.'\n",
    "    }\n",
    "    for k, v in patterns.items():\n",
    "        if sent.endswith(k):\n",
    "            sent = sent.replace(k, v)\n",
    "    return sent"
   ]
  },
  {
   "cell_type": "code",
   "execution_count": 29,
   "id": "b26f4b40-a9e3-4bee-8bfb-116006c3aa4d",
   "metadata": {},
   "outputs": [],
   "source": [
    "txt = \"Phiên trước đó, giá mỗi loại đã giảm hơn 3%. Thị trường đi xuống khi nhà đầu tư lo ngại nguồn cung năm nay tăng lên, trong bối cảnh nhu cầu dầu tại Mỹ có khả năng yếu đi.\""
   ]
  },
  {
   "cell_type": "code",
   "execution_count": 30,
   "id": "ae56127a-b494-4222-a7de-cc7b2c11c1da",
   "metadata": {},
   "outputs": [
    {
     "name": "stdout",
     "output_type": "stream",
     "text": [
      "Phiên trước đó, giá mỗi loại đã giảm hơn 3%.\n",
      "Thị trường đi xuống khi nhà đầu tư lo ngại nguồn cung năm nay tăng lên, trong bối cảnh nhu cầu dầu tại Mỹ có khả năng yếu đi.\n"
     ]
    }
   ],
   "source": [
    "for sent in sent_tokenize(txt):\n",
    "    print(_replace_ending_sentence(sent))"
   ]
  },
  {
   "cell_type": "code",
   "execution_count": 34,
   "id": "ccdacea3-f34f-407c-8cca-9bcab1e0fca1",
   "metadata": {},
   "outputs": [
    {
     "data": {
      "text/plain": [
       "'export/fin_ttt_sentences.txt'"
      ]
     },
     "execution_count": 34,
     "metadata": {},
     "output_type": "execute_result"
    }
   ],
   "source": [
    "output_file = \"export/fin_{0}_sentences.txt\"\n",
    "output_file.format('ttt')"
   ]
  },
  {
   "cell_type": "code",
   "execution_count": null,
   "id": "da2b1ba7-a108-4c4f-94e8-e06b80dea356",
   "metadata": {},
   "outputs": [],
   "source": [
    "tokens = word_tokenize(txt)\n",
    "tokens, set(tokens)"
   ]
  },
  {
   "cell_type": "code",
   "execution_count": 2,
   "id": "c19a6f7e-5202-4fae-a933-12539a9926fa",
   "metadata": {},
   "outputs": [
    {
     "data": {
      "text/plain": [
       "'!\"#$%&\\'()*+,-./:;<=>?@[\\\\]^_`{|}~'"
      ]
     },
     "execution_count": 2,
     "metadata": {},
     "output_type": "execute_result"
    }
   ],
   "source": [
    "string.punctuation"
   ]
  },
  {
   "cell_type": "code",
   "execution_count": 142,
   "id": "a9a34e81-1b59-4fee-9bf6-e1bd3dffcda9",
   "metadata": {},
   "outputs": [],
   "source": [
    "import torch\n",
    "from torch import nn \n",
    "from torch import optim\n",
    "from torch.optim import lr_scheduler\n",
    "from functools import partial\n",
    "import matplotlib.pyplot as plt"
   ]
  },
  {
   "cell_type": "code",
   "execution_count": 16,
   "id": "ecff46d1-fab0-45f6-8186-ec7abe0c92d4",
   "metadata": {},
   "outputs": [],
   "source": [
    "def _get_linear_schedule_with_warmup_lr_lambda(current_step: int, num_warmup_steps: int, num_training_steps: int):\n",
    "    if current_step < num_warmup_steps:\n",
    "        return float(current_step) / float(max(1, num_warmup_steps))\n",
    "    return max(0.0, float(num_training_steps - current_step) / float(max(1, num_training_steps - num_warmup_steps)))"
   ]
  },
  {
   "cell_type": "code",
   "execution_count": 192,
   "id": "d98a8145-96d9-46b9-93d2-0a23b1c9ec1b",
   "metadata": {},
   "outputs": [],
   "source": [
    "def _lr_epoch_lambda(step:int, *, base_lr:float, scale:float):\n",
    "    return base_lr / (1 + scale * step)\n",
    "\n",
    "def _lr_noam_lambda(step:int, *, embed_dim:int, warmup_steps:int):    \n",
    "    step += 1\n",
    "    return (embed_dim ** (-0.5)) * min(step ** (-0.5), step * warmup_steps ** (-1.5))\n",
    "\n",
    "def _lr_warmup_lambda(step:int, *, warmup_steps:int):\n",
    "    step += 1\n",
    "    return (warmup_steps ** (0.5)) * min(step ** (-0.5), step * warmup_steps ** (-1.5))\n",
    "\n"
   ]
  },
  {
   "cell_type": "code",
   "execution_count": 202,
   "id": "29fc79e8-14d5-4833-94b1-3f2477f5fce5",
   "metadata": {},
   "outputs": [
    {
     "name": "stdout",
     "output_type": "stream",
     "text": [
      "0 Learning Rate = 0.010000000000000002\n",
      "1 Learning Rate = 0.009090909090909092\n",
      "2 Learning Rate = 0.008333333333333335\n",
      "3 Learning Rate = 0.007692307692307693\n",
      "4 Learning Rate = 0.007142857142857144\n",
      "5 Learning Rate = 0.006666666666666667\n",
      "6 Learning Rate = 0.00625\n",
      "7 Learning Rate = 0.0058823529411764705\n",
      "8 Learning Rate = 0.005555555555555557\n",
      "9 Learning Rate = 0.005263157894736843\n",
      "10 Learning Rate = 0.005000000000000001\n",
      "11 Learning Rate = 0.004761904761904762\n",
      "12 Learning Rate = 0.004545454545454546\n",
      "13 Learning Rate = 0.004347826086956523\n",
      "14 Learning Rate = 0.004166666666666667\n",
      "15 Learning Rate = 0.004\n",
      "16 Learning Rate = 0.0038461538461538464\n",
      "17 Learning Rate = 0.003703703703703704\n",
      "18 Learning Rate = 0.003571428571428572\n",
      "19 Learning Rate = 0.0034482758620689655\n",
      "20 Learning Rate = 0.0033333333333333335\n",
      "21 Learning Rate = 0.0032258064516129032\n",
      "22 Learning Rate = 0.003125\n",
      "23 Learning Rate = 0.0030303030303030307\n",
      "24 Learning Rate = 0.0029411764705882353\n",
      "25 Learning Rate = 0.0028571428571428576\n",
      "26 Learning Rate = 0.0027777777777777783\n",
      "27 Learning Rate = 0.002702702702702703\n",
      "28 Learning Rate = 0.002631578947368421\n",
      "29 Learning Rate = 0.002564102564102564\n",
      "30 Learning Rate = 0.0025000000000000005\n",
      "31 Learning Rate = 0.002439024390243903\n",
      "32 Learning Rate = 0.002380952380952381\n",
      "33 Learning Rate = 0.0023255813953488367\n",
      "34 Learning Rate = 0.002272727272727273\n",
      "35 Learning Rate = 0.0022222222222222222\n",
      "36 Learning Rate = 0.0021739130434782613\n",
      "37 Learning Rate = 0.002127659574468085\n",
      "38 Learning Rate = 0.0020833333333333333\n",
      "39 Learning Rate = 0.002040816326530612\n",
      "40 Learning Rate = 0.002\n",
      "41 Learning Rate = 0.00196078431372549\n",
      "42 Learning Rate = 0.0019230769230769232\n",
      "43 Learning Rate = 0.0018867924528301891\n",
      "44 Learning Rate = 0.001851851851851852\n",
      "45 Learning Rate = 0.0018181818181818186\n",
      "46 Learning Rate = 0.0017857142857142857\n",
      "47 Learning Rate = 0.0017543859649122807\n",
      "48 Learning Rate = 0.0017241379310344827\n",
      "49 Learning Rate = 0.0016949152542372883\n",
      "50 Learning Rate = 0.0016666666666666668\n",
      "51 Learning Rate = 0.0016393442622950822\n",
      "52 Learning Rate = 0.0016129032258064516\n",
      "53 Learning Rate = 0.0015873015873015873\n",
      "54 Learning Rate = 0.0015625\n",
      "55 Learning Rate = 0.0015384615384615387\n",
      "56 Learning Rate = 0.0015151515151515154\n",
      "57 Learning Rate = 0.0014925373134328358\n",
      "58 Learning Rate = 0.0014705882352941176\n",
      "59 Learning Rate = 0.0014492753623188406\n",
      "60 Learning Rate = 0.0014285714285714288\n",
      "61 Learning Rate = 0.0014084507042253522\n",
      "62 Learning Rate = 0.0013888888888888892\n",
      "63 Learning Rate = 0.0013698630136986301\n",
      "64 Learning Rate = 0.0013513513513513514\n",
      "65 Learning Rate = 0.0013333333333333335\n",
      "66 Learning Rate = 0.0013157894736842105\n",
      "67 Learning Rate = 0.001298701298701299\n",
      "68 Learning Rate = 0.001282051282051282\n",
      "69 Learning Rate = 0.0012658227848101266\n",
      "70 Learning Rate = 0.0012500000000000002\n",
      "71 Learning Rate = 0.0012345679012345679\n",
      "72 Learning Rate = 0.0012195121951219514\n",
      "73 Learning Rate = 0.0012048192771084336\n",
      "74 Learning Rate = 0.0011904761904761906\n",
      "75 Learning Rate = 0.0011764705882352942\n",
      "76 Learning Rate = 0.0011627906976744184\n",
      "77 Learning Rate = 0.001149425287356322\n",
      "78 Learning Rate = 0.0011363636363636365\n",
      "79 Learning Rate = 0.0011235955056179776\n",
      "80 Learning Rate = 0.0011111111111111111\n",
      "81 Learning Rate = 0.0010989010989010991\n",
      "82 Learning Rate = 0.0010869565217391304\n",
      "83 Learning Rate = 0.001075268817204301\n",
      "84 Learning Rate = 0.0010638297872340426\n",
      "85 Learning Rate = 0.0010526315789473684\n",
      "86 Learning Rate = 0.0010416666666666669\n",
      "87 Learning Rate = 0.0010309278350515464\n",
      "88 Learning Rate = 0.001020408163265306\n",
      "89 Learning Rate = 0.0010101010101010103\n",
      "90 Learning Rate = 0.001\n",
      "91 Learning Rate = 0.0009900990099009901\n",
      "92 Learning Rate = 0.000980392156862745\n",
      "93 Learning Rate = 0.000970873786407767\n",
      "94 Learning Rate = 0.0009615384615384616\n",
      "95 Learning Rate = 0.0009523809523809525\n",
      "96 Learning Rate = 0.0009433962264150943\n",
      "97 Learning Rate = 0.0009345794392523364\n",
      "98 Learning Rate = 0.000925925925925926\n",
      "99 Learning Rate = 0.0009174311926605505\n"
     ]
    },
    {
     "data": {
      "text/plain": [
       "[<matplotlib.lines.Line2D at 0x20638623990>]"
      ]
     },
     "execution_count": 202,
     "metadata": {},
     "output_type": "execute_result"
    },
    {
     "data": {
      "image/png": "[encoded data removed]",
      "text/plain": [
       "<Figure size 640x480 with 1 Axes>"
      ]
     },
     "metadata": {},
     "output_type": "display_data"
    }
   ],
   "source": [
    "n = 100\n",
    "embed_dim = 576\n",
    "warmup_steps = 30\n",
    "base_lr = 0.1\n",
    "\n",
    "model = torch.nn.Linear(2, 1)\n",
    "optimizer = optim.Adam(params=model.parameters(), lr=base_lr)\n",
    "\n",
    "lr_epoch_lambda = partial(_lr_epoch_lambda, base_lr=base_lr, scale=0.1)\n",
    "lr_noam_lambda = partial(_lr_noam_lambda, embed_dim=embed_dim, warmup_steps=warmup_steps)\n",
    "lr_warmup_lambda = partial(_lr_warmup_lambda, warmup_steps=warmup_steps)\n",
    "scheduler = lr_scheduler.LambdaLR(optimizer, lr_lambda=lr_epoch_lambda)\n",
    "# scheduler = lr_scheduler.LambdaLR(optimizer, lr_lambda=lr_noam_lambda)\n",
    "# scheduler = lr_scheduler.LambdaLR(optimizer, lr_lambda=lr_warmup_lambda)\n",
    "lrs = []\n",
    "for i in range(n):\n",
    "    \n",
    "    optimizer.step()\n",
    "    lrs.append(optimizer.param_groups[0][\"lr\"])\n",
    "    print(f\"{i} Learning Rate = {optimizer.param_groups[0]['lr']}\")\n",
    "    scheduler.step()\n",
    "\n",
    "plt.plot(range(n),lrs)"
   ]
  }
 ],
 "metadata": {
  "kernelspec": {
   "display_name": "Python 3 (ipykernel)",
   "language": "python",
   "name": "python3"
  },
  "language_info": {
   "codemirror_mode": {
    "name": "ipython",
    "version": 3
   },
   "file_extension": ".py",
   "mimetype": "text/x-python",
   "name": "python",
   "nbconvert_exporter": "python",
   "pygments_lexer": "ipython3",
   "version": "3.11.8"
  }
 },
 "nbformat": 4,
 "nbformat_minor": 5
}
