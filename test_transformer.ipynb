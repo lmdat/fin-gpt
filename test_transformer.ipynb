{
 "cells": [
  {
   "cell_type": "code",
   "execution_count": 5,
   "id": "6256a294-5a43-4d43-92b1-6c4f1d0e11f2",
   "metadata": {},
   "outputs": [],
   "source": [
    "import torch\n",
    "from torch import nn"
   ]
  },
  {
   "cell_type": "code",
   "execution_count": 40,
   "id": "adbf7284-eb3e-4ce9-99f2-8e75442203b7",
   "metadata": {},
   "outputs": [
    {
     "data": {
      "text/plain": [
       "-inf"
      ]
     },
     "execution_count": 40,
     "metadata": {},
     "output_type": "execute_result"
    }
   ],
   "source": [
    "float(\"-inf\")"
   ]
  },
  {
   "cell_type": "code",
   "execution_count": null,
   "id": "a82faa4e-1b89-4a83-9ff3-a79835b55748",
   "metadata": {},
   "outputs": [],
   "source": []
  },
  {
   "cell_type": "code",
   "execution_count": 2,
   "id": "3d4e4962-6a44-49d6-a8c7-a5881acd8962",
   "metadata": {},
   "outputs": [
    {
     "data": {
      "text/plain": [
       "[0, 1, 2, 3, 4, 5, 6, 7, 8, 9]"
      ]
     },
     "execution_count": 2,
     "metadata": {},
     "output_type": "execute_result"
    }
   ],
   "source": [
    "[\n",
    "    i\n",
    "    for i in range(10)\n",
    "]"
   ]
  },
  {
   "cell_type": "code",
   "execution_count": 31,
   "id": "d8f3611a-7d34-43fd-95a6-4423c4049017",
   "metadata": {},
   "outputs": [],
   "source": [
    "class PositionalEncoding(nn.Module):\n",
    "    def __init__(self,\n",
    "                 seq_len:int,\n",
    "                 embed_dim:int) -> None:\n",
    "        \"\"\"\n",
    "        Parameters:\n",
    "            seq_len: length of input sequence. aka number of words in a sentence\n",
    "            embed_dim: dimension of embedding. Ex: 512\n",
    "        \"\"\"\n",
    "        super().__init__()\n",
    "\n",
    "        self.seq_len = seq_len\n",
    "        self.embed_dim = embed_dim\n",
    "\n",
    "        pos_encoding = torch.zeros(size=(self.seq_len, self.embed_dim), dtype=torch.float32)\n",
    "        angle_numerator = torch.arange(self.seq_len, dtype=torch.float32).unsqueeze(1)\n",
    "        angle_denominator = torch.pow(10000.0, (2 * (torch.arange(self.embed_dim, dtype=torch.float32) // 2)) / self.embed_dim).unsqueeze(0)\n",
    "        angles = angle_numerator / angle_denominator\n",
    "\n",
    "        pos_encoding[:, 0::2] = torch.sin(angles[:, 0::2])\n",
    "        pos_encoding[:, 1::2] = torch.cos(angles[:, 1::2])\n",
    "        self.register_buffer(\"pos_encoding\", pos_encoding)\n",
    "\n",
    "    def forward(self, x:torch.Tensor) -> torch.Tensor:\n",
    "        z = self.pos_encoding[:, :x.size(1)]\n",
    "        return x + z.requires_grad_(False)\n",
    "        "
   ]
  },
  {
   "cell_type": "code",
   "execution_count": 29,
   "id": "c5b62d02-26f0-41ed-85cc-4ea48afa9443",
   "metadata": {},
   "outputs": [
    {
     "data": {
      "text/plain": [
       "(5,\n",
       " 8,\n",
       " tensor([[7, 6, 8, 6, 1, 1, 4, 9],\n",
       "         [8, 3, 1, 5, 2, 6, 6, 1],\n",
       "         [8, 6, 1, 1, 7, 2, 4, 1],\n",
       "         [2, 3, 6, 5, 1, 9, 8, 5],\n",
       "         [3, 1, 8, 4, 2, 7, 6, 4]]))"
      ]
     },
     "execution_count": 29,
     "metadata": {},
     "output_type": "execute_result"
    }
   ],
   "source": [
    "x = torch.randint(1, 10, [10, 5, 8])\n",
    "x.size(-2), x.size(-1), x[0]"
   ]
  },
  {
   "cell_type": "code",
   "execution_count": 32,
   "id": "bcc1fe59-55bd-45d8-bc47-ee770bd38afe",
   "metadata": {},
   "outputs": [],
   "source": [
    "pe = PositionalEncoding(5, 8)"
   ]
  },
  {
   "cell_type": "code",
   "execution_count": 39,
   "id": "266012b6-13ae-46e9-8b0d-f82025fa3150",
   "metadata": {},
   "outputs": [
    {
     "data": {
      "text/plain": [
       "tensor([[ 7.0000,  7.0000,  8.0000,  7.0000,  1.0000,  2.0000,  4.0000, 10.0000],\n",
       "        [ 8.8415,  3.5403,  1.0998,  5.9950,  2.0100,  6.9999,  6.0010,  2.0000],\n",
       "        [ 8.9093,  5.5839,  1.1987,  1.9801,  7.0200,  2.9998,  4.0020,  2.0000],\n",
       "        [ 2.1411,  2.0100,  6.2955,  5.9553,  1.0300,  9.9995,  8.0030,  6.0000],\n",
       "        [ 2.2432,  0.3464,  8.3894,  4.9211,  2.0400,  7.9992,  6.0040,  5.0000]])"
      ]
     },
     "execution_count": 39,
     "metadata": {},
     "output_type": "execute_result"
    }
   ],
   "source": [
    "pe(x[0])"
   ]
  },
  {
   "cell_type": "code",
   "execution_count": 4,
   "id": "ce1ba757-f1c1-4278-a573-313b73d8359f",
   "metadata": {},
   "outputs": [],
   "source": [
    "def _generate_square_mask(seq_len:int):\n",
    "    mask = (torch.triu(torch.ones(seq_len, seq_len)) == 1).transpose(0, 1)\n",
    "    return mask\n",
    "\n",
    "\n",
    "def _gen_mask(seq_len:int):\n",
    "    mask = (1-torch.triu(torch.ones(seq_len, seq_len), diagonal=1)).bool()\n",
    "    return mask"
   ]
  },
  {
   "cell_type": "markdown",
   "id": "0359625b-688d-4bf4-a020-2ef03fe0d770",
   "metadata": {},
   "source": [
    "### Tạo Mask"
   ]
  },
  {
   "cell_type": "code",
   "execution_count": 5,
   "id": "e83db14d-b85a-4509-b2f7-7310a1e4d634",
   "metadata": {},
   "outputs": [
    {
     "ename": "NameError",
     "evalue": "name 'mask' is not defined",
     "output_type": "error",
     "traceback": [
      "\u001b[1;31m---------------------------------------------------------------------------\u001b[0m",
      "\u001b[1;31mNameError\u001b[0m                                 Traceback (most recent call last)",
      "Cell \u001b[1;32mIn[5], line 2\u001b[0m\n\u001b[0;32m      1\u001b[0m mask1 \u001b[38;5;241m=\u001b[39m (torch\u001b[38;5;241m.\u001b[39mtriu(torch\u001b[38;5;241m.\u001b[39mones(\u001b[38;5;241m5\u001b[39m, \u001b[38;5;241m5\u001b[39m)) \u001b[38;5;241m==\u001b[39m \u001b[38;5;241m1\u001b[39m)\u001b[38;5;241m.\u001b[39mtranspose(\u001b[38;5;241m0\u001b[39m, \u001b[38;5;241m1\u001b[39m) \u001b[38;5;66;03m# Ấn Độ viết\u001b[39;00m\n\u001b[1;32m----> 2\u001b[0m mask1 \u001b[38;5;241m=\u001b[39m mask1\u001b[38;5;241m.\u001b[39mfloat()\u001b[38;5;241m.\u001b[39mmasked_fill(\u001b[43mmask\u001b[49m \u001b[38;5;241m==\u001b[39m \u001b[38;5;241m0\u001b[39m, \u001b[38;5;28mfloat\u001b[39m(\u001b[38;5;124m'\u001b[39m\u001b[38;5;124m-inf\u001b[39m\u001b[38;5;124m'\u001b[39m))\u001b[38;5;241m.\u001b[39mmasked_fill(mask \u001b[38;5;241m==\u001b[39m \u001b[38;5;241m1\u001b[39m, \u001b[38;5;28mfloat\u001b[39m(\u001b[38;5;241m0.0\u001b[39m))\n\u001b[0;32m      3\u001b[0m mask1\n",
      "\u001b[1;31mNameError\u001b[0m: name 'mask' is not defined"
     ]
    }
   ],
   "source": [
    "mask1 = (torch.triu(torch.ones(5, 5)) == 1).transpose(0, 1) # Ấn Độ viết\n",
    "mask1 = mask1.float().masked_fill(mask == 0, float('-inf')).masked_fill(mask == 1, float(0.0))\n",
    "mask1"
   ]
  },
  {
   "cell_type": "code",
   "execution_count": 92,
   "id": "dad579a2-3136-4690-85bb-547301eb39e2",
   "metadata": {},
   "outputs": [
    {
     "data": {
      "text/plain": [
       "tensor([[ True, False, False, False, False],\n",
       "        [ True,  True, False, False, False],\n",
       "        [ True,  True,  True, False, False],\n",
       "        [ True,  True,  True,  True, False],\n",
       "        [ True,  True,  True,  True,  True]])"
      ]
     },
     "execution_count": 92,
     "metadata": {},
     "output_type": "execute_result"
    }
   ],
   "source": [
    "(1 - torch.triu(torch.ones(5, 5), diagonal=1)).bool() # Ấn Độ sống ở Ý viết"
   ]
  },
  {
   "cell_type": "code",
   "execution_count": 72,
   "id": "8fd67062-de82-42d5-b86c-0c758f32be19",
   "metadata": {},
   "outputs": [
    {
     "data": {
      "text/plain": [
       "tensor([[1., 0., 0., 0., 0.],\n",
       "        [1., 1., 0., 0., 0.],\n",
       "        [1., 1., 1., 0., 0.],\n",
       "        [1., 1., 1., 1., 0.],\n",
       "        [1., 1., 1., 1., 1.]])"
      ]
     },
     "execution_count": 72,
     "metadata": {},
     "output_type": "execute_result"
    }
   ],
   "source": [
    "mask = torch.tril(torch.ones(5, 5)) # Tui sống ở Việt Name viết\n",
    "mask"
   ]
  },
  {
   "cell_type": "code",
   "execution_count": 41,
   "id": "87bf9e85-f422-4d36-9e49-ebeee0b97ecc",
   "metadata": {},
   "outputs": [
    {
     "data": {
      "text/plain": [
       "tensor([[[[1., 0., 0., 0., 0.],\n",
       "          [1., 1., 0., 0., 0.],\n",
       "          [1., 1., 1., 0., 0.],\n",
       "          [1., 1., 1., 1., 0.],\n",
       "          [1., 1., 1., 1., 1.]]],\n",
       "\n",
       "\n",
       "        [[[1., 0., 0., 0., 0.],\n",
       "          [1., 1., 0., 0., 0.],\n",
       "          [1., 1., 1., 0., 0.],\n",
       "          [1., 1., 1., 1., 0.],\n",
       "          [1., 1., 1., 1., 1.]]],\n",
       "\n",
       "\n",
       "        [[[1., 0., 0., 0., 0.],\n",
       "          [1., 1., 0., 0., 0.],\n",
       "          [1., 1., 1., 0., 0.],\n",
       "          [1., 1., 1., 1., 0.],\n",
       "          [1., 1., 1., 1., 1.]]],\n",
       "\n",
       "\n",
       "        [[[1., 0., 0., 0., 0.],\n",
       "          [1., 1., 0., 0., 0.],\n",
       "          [1., 1., 1., 0., 0.],\n",
       "          [1., 1., 1., 1., 0.],\n",
       "          [1., 1., 1., 1., 1.]]]])"
      ]
     },
     "execution_count": 41,
     "metadata": {},
     "output_type": "execute_result"
    }
   ],
   "source": [
    "mask2 = torch.tril(torch.ones(5, 5)).expand(4, 1, 5, 5)\n",
    "mask2"
   ]
  },
  {
   "cell_type": "code",
   "execution_count": 42,
   "id": "9631ea01-275e-46b8-8088-bc1e8399e1b9",
   "metadata": {},
   "outputs": [
    {
     "data": {
      "text/plain": [
       "tensor([[[1., 2., 1., 5., 6.],\n",
       "         [8., 5., 4., 5., 8.],\n",
       "         [5., 3., 4., 6., 4.],\n",
       "         [6., 5., 3., 4., 9.],\n",
       "         [8., 2., 1., 1., 7.]],\n",
       "\n",
       "        [[2., 7., 3., 3., 4.],\n",
       "         [4., 2., 5., 4., 7.],\n",
       "         [2., 4., 4., 9., 4.],\n",
       "         [7., 8., 5., 7., 3.],\n",
       "         [4., 4., 9., 6., 7.]],\n",
       "\n",
       "        [[2., 2., 3., 6., 2.],\n",
       "         [7., 4., 8., 5., 5.],\n",
       "         [4., 8., 2., 1., 5.],\n",
       "         [7., 8., 7., 2., 3.],\n",
       "         [7., 6., 3., 5., 4.]],\n",
       "\n",
       "        [[1., 4., 3., 9., 2.],\n",
       "         [4., 6., 1., 6., 7.],\n",
       "         [9., 9., 9., 2., 3.],\n",
       "         [9., 8., 3., 6., 2.],\n",
       "         [9., 2., 7., 5., 8.]]])"
      ]
     },
     "execution_count": 42,
     "metadata": {},
     "output_type": "execute_result"
    }
   ],
   "source": [
    "attn_scores = torch.randint(1, 10, (4, 5, 5)).float()\n",
    "attn_scores"
   ]
  },
  {
   "cell_type": "code",
   "execution_count": 68,
   "id": "a5dd27bc-8893-435b-b0eb-548c92edd285",
   "metadata": {},
   "outputs": [
    {
     "data": {
      "text/plain": [
       "tensor([[[1., -inf, -inf, -inf, -inf],\n",
       "         [8., 5., -inf, -inf, -inf],\n",
       "         [5., 3., 4., -inf, -inf],\n",
       "         [6., 5., 3., 4., -inf],\n",
       "         [8., 2., 1., 1., 7.]],\n",
       "\n",
       "        [[2., -inf, -inf, -inf, -inf],\n",
       "         [4., 2., -inf, -inf, -inf],\n",
       "         [2., 4., 4., -inf, -inf],\n",
       "         [7., 8., 5., 7., -inf],\n",
       "         [4., 4., 9., 6., 7.]],\n",
       "\n",
       "        [[2., -inf, -inf, -inf, -inf],\n",
       "         [7., 4., -inf, -inf, -inf],\n",
       "         [4., 8., 2., -inf, -inf],\n",
       "         [7., 8., 7., 2., -inf],\n",
       "         [7., 6., 3., 5., 4.]],\n",
       "\n",
       "        [[1., -inf, -inf, -inf, -inf],\n",
       "         [4., 6., -inf, -inf, -inf],\n",
       "         [9., 9., 9., -inf, -inf],\n",
       "         [9., 8., 3., 6., -inf],\n",
       "         [9., 2., 7., 5., 8.]]])"
      ]
     },
     "execution_count": 68,
     "metadata": {},
     "output_type": "execute_result"
    }
   ],
   "source": [
    "attn_scores.masked_fill(mask==0, float('-inf'))"
   ]
  },
  {
   "cell_type": "code",
   "execution_count": 2,
   "id": "857d2791-91f9-488b-8fe9-051189dd13be",
   "metadata": {},
   "outputs": [
    {
     "ename": "NameError",
     "evalue": "name 'mask' is not defined",
     "output_type": "error",
     "traceback": [
      "\u001b[1;31m---------------------------------------------------------------------------\u001b[0m",
      "\u001b[1;31mNameError\u001b[0m                                 Traceback (most recent call last)",
      "Cell \u001b[1;32mIn[2], line 1\u001b[0m\n\u001b[1;32m----> 1\u001b[0m \u001b[43mmask\u001b[49m\n",
      "\u001b[1;31mNameError\u001b[0m: name 'mask' is not defined"
     ]
    }
   ],
   "source": [
    "mask"
   ]
  },
  {
   "cell_type": "code",
   "execution_count": 21,
   "id": "6aefa1c6-1b7e-4c3e-9c50-8be5d7fade37",
   "metadata": {},
   "outputs": [
    {
     "data": {
      "text/plain": [
       "tensor([[False,  True,  True,  True,  True],\n",
       "        [False, False,  True,  True,  True],\n",
       "        [False, False, False,  True,  True],\n",
       "        [False, False, False, False,  True],\n",
       "        [False, False, False, False, False]])"
      ]
     },
     "execution_count": 21,
     "metadata": {},
     "output_type": "execute_result"
    }
   ],
   "source": [
    "torch.tril(torch.ones(5, 5)) == 0"
   ]
  },
  {
   "cell_type": "code",
   "execution_count": 20,
   "id": "eef499c9-1f33-4cc0-bb8d-b44292673630",
   "metadata": {},
   "outputs": [
    {
     "data": {
      "text/plain": [
       "tensor([[False,  True,  True,  True,  True],\n",
       "        [False, False,  True,  True,  True],\n",
       "        [False, False, False,  True,  True],\n",
       "        [False, False, False, False,  True],\n",
       "        [False, False, False, False, False]])"
      ]
     },
     "execution_count": 20,
     "metadata": {},
     "output_type": "execute_result"
    }
   ],
   "source": [
    "torch.triu(torch.ones(5, 5), diagonal=1).bool()"
   ]
  },
  {
   "cell_type": "code",
   "execution_count": 56,
   "id": "d8ea2cc7-1da7-4a96-a998-7f4e4bbc0d6f",
   "metadata": {},
   "outputs": [
    {
     "data": {
      "text/plain": [
       "(9, [1, 2, 3, 4, 5, 6, 7, 8, 9], [10, 11, 12])"
      ]
     },
     "execution_count": 56,
     "metadata": {},
     "output_type": "execute_result"
    }
   ],
   "source": [
    "import random \n",
    "mylist = [1,2,3,4,5,6,7,8,9,10,11,12]\n",
    "# random.shuffle(mylist)\n",
    "n = len(mylist)\n",
    "a = int(n * 0.8)\n",
    "train = mylist[:a]\n",
    "test = mylist[a:]\n",
    "a, train, test"
   ]
  },
  {
   "cell_type": "code",
   "execution_count": 75,
   "id": "7667d7d3-3b62-4d7a-bf17-1e7cb2240a5a",
   "metadata": {},
   "outputs": [],
   "source": [
    "def causal_mask(size):\n",
    "    # mask = torch.triu(torch.ones((size, size)), diagonal=1).type(torch.int)\n",
    "    # return mask == 0\n",
    "    mask = torch.tril(torch.ones(1, size, size))\n",
    "    return mask.bool()"
   ]
  },
  {
   "cell_type": "code",
   "execution_count": 19,
   "id": "b8decd10-8ea0-4c42-884d-d047f0e8bc5c",
   "metadata": {},
   "outputs": [
    {
     "data": {
      "text/plain": [
       "tensor([2])"
      ]
     },
     "execution_count": 19,
     "metadata": {},
     "output_type": "execute_result"
    }
   ],
   "source": [
    "pad_token = torch.tensor([2])\n",
    "pad_token"
   ]
  },
  {
   "cell_type": "code",
   "execution_count": 20,
   "id": "91c7ca80-6484-4bf4-bea5-4dfea4af5dc6",
   "metadata": {},
   "outputs": [
    {
     "data": {
      "text/plain": [
       "tensor([10, 12, 14, 16,  1,  2,  2,  2])"
      ]
     },
     "execution_count": 20,
     "metadata": {},
     "output_type": "execute_result"
    }
   ],
   "source": [
    "decoder_input = torch.tensor([10, 12, 14, 16, 1, 2, 2, 2])\n",
    "decoder_input"
   ]
  },
  {
   "cell_type": "code",
   "execution_count": 76,
   "id": "ff118144-ecc9-4bc3-af1b-d38ce351ba97",
   "metadata": {},
   "outputs": [
    {
     "data": {
      "text/plain": [
       "tensor([[[ True, False, False, False, False, False, False, False],\n",
       "         [ True,  True, False, False, False, False, False, False],\n",
       "         [ True,  True,  True, False, False, False, False, False],\n",
       "         [ True,  True,  True,  True, False, False, False, False],\n",
       "         [ True,  True,  True,  True,  True, False, False, False],\n",
       "         [ True,  True,  True,  True,  True,  True, False, False],\n",
       "         [ True,  True,  True,  True,  True,  True,  True, False],\n",
       "         [ True,  True,  True,  True,  True,  True,  True,  True]]])"
      ]
     },
     "execution_count": 76,
     "metadata": {},
     "output_type": "execute_result"
    }
   ],
   "source": [
    "mask2 = causal_mask(decoder_input.shape[0])\n",
    "mask2"
   ]
  },
  {
   "cell_type": "code",
   "execution_count": 59,
   "id": "08a0045c-30fc-4057-b4c6-a7d550caed7e",
   "metadata": {},
   "outputs": [
    {
     "data": {
      "text/plain": [
       "tensor([[ True, False, False, False, False, False, False, False],\n",
       "        [ True,  True, False, False, False, False, False, False],\n",
       "        [ True,  True,  True, False, False, False, False, False],\n",
       "        [ True,  True,  True,  True, False, False, False, False],\n",
       "        [ True,  True,  True,  True,  True, False, False, False],\n",
       "        [ True,  True,  True,  True,  True,  True, False, False],\n",
       "        [ True,  True,  True,  True,  True,  True,  True, False],\n",
       "        [ True,  True,  True,  True,  True,  True,  True,  True]])"
      ]
     },
     "execution_count": 59,
     "metadata": {},
     "output_type": "execute_result"
    }
   ],
   "source": [
    "mask = causal_mask(decoder_input.shape[0])\n",
    "mask"
   ]
  },
  {
   "cell_type": "code",
   "execution_count": 48,
   "id": "1c9f85dc-e623-446f-a11d-4621bb1f5ea4",
   "metadata": {},
   "outputs": [
    {
     "data": {
      "text/plain": [
       "tensor([1, 1, 1, 1, 1, 0, 0, 0], dtype=torch.int32)"
      ]
     },
     "execution_count": 48,
     "metadata": {},
     "output_type": "execute_result"
    }
   ],
   "source": [
    "(decoder_input != pad_token).int()"
   ]
  },
  {
   "cell_type": "code",
   "execution_count": 77,
   "id": "49131d5a-9e71-41f1-a61d-dc9180814a65",
   "metadata": {},
   "outputs": [
    {
     "data": {
      "text/plain": [
       "tensor([[[1, 0, 0, 0, 0, 0, 0, 0],\n",
       "         [1, 1, 0, 0, 0, 0, 0, 0],\n",
       "         [1, 1, 1, 0, 0, 0, 0, 0],\n",
       "         [1, 1, 1, 1, 0, 0, 0, 0],\n",
       "         [1, 1, 1, 1, 1, 0, 0, 0],\n",
       "         [1, 1, 1, 1, 1, 0, 0, 0],\n",
       "         [1, 1, 1, 1, 1, 0, 0, 0],\n",
       "         [1, 1, 1, 1, 1, 0, 0, 0]]], dtype=torch.int32)"
      ]
     },
     "execution_count": 77,
     "metadata": {},
     "output_type": "execute_result"
    }
   ],
   "source": [
    "(decoder_input != pad_token).unsqueeze(0).int() & mask2"
   ]
  },
  {
   "cell_type": "code",
   "execution_count": 78,
   "id": "c4582292-e1e7-41dd-8924-36c6318fbbab",
   "metadata": {},
   "outputs": [
    {
     "name": "stdout",
     "output_type": "stream",
     "text": [
      "==========Dataset==========\n"
     ]
    }
   ],
   "source": [
    "print(f\"{'='*10}Dataset{'='*10}\")"
   ]
  },
  {
   "cell_type": "code",
   "execution_count": 2,
   "id": "f8bf8b7a-c2c6-4de1-80ec-2ba540dea6a2",
   "metadata": {},
   "outputs": [],
   "source": [
    "import json, string\n",
    "from pyvi import ViTokenizer\n",
    "from underthesea import word_tokenize, sent_tokenize"
   ]
  },
  {
   "cell_type": "code",
   "execution_count": 10,
   "id": "08a16956-0781-4a50-8c8e-ad7d13343f35",
   "metadata": {},
   "outputs": [],
   "source": [
    "seq = [\n",
    "    [\"loài phong\", \"acer glabrum\", \"kích thước\", \"to lớn\"],\n",
    "    [\"hogan's\", \"alley\", \"cộng đồng\", \"da\", \"đen\"],\n",
    "    [\"khu phố\", \"strathcona\", \"hạt nhân\", \"cộng đồng\", \"do thái\", \"thành phố\"]\n",
    "]"
   ]
  },
  {
   "cell_type": "code",
   "execution_count": 12,
   "id": "745f1ad2-ad2d-43db-944c-ca4296c5bd0d",
   "metadata": {},
   "outputs": [
    {
     "data": {
      "text/plain": [
       "'[[\"loài phong\", \"acer glabrum\", \"kích thước\", \"to lớn\"], [\"hogan\\'s\", \"alley\", \"cộng đồng\", \"da\", \"đen\"], [\"khu phố\", \"strathcona\", \"hạt nhân\", \"cộng đồng\", \"do thái\", \"thành phố\"]]'"
      ]
     },
     "execution_count": 12,
     "metadata": {},
     "output_type": "execute_result"
    }
   ],
   "source": [
    "txt = json.dumps(seq, ensure_ascii=False).encode('utf-8')\n",
    "txt.decode()"
   ]
  },
  {
   "cell_type": "code",
   "execution_count": 14,
   "id": "5810401d-71b1-4572-86ef-a4f351ffe50e",
   "metadata": {},
   "outputs": [
    {
     "data": {
      "text/plain": [
       "[['loài phong', 'acer glabrum', 'kích thước', 'to lớn'],\n",
       " [\"hogan's\", 'alley', 'cộng đồng', 'da', 'đen'],\n",
       " ['khu phố', 'strathcona', 'hạt nhân', 'cộng đồng', 'do thái', 'thành phố']]"
      ]
     },
     "execution_count": 14,
     "metadata": {},
     "output_type": "execute_result"
    }
   ],
   "source": [
    "a = json.loads(txt.decode())\n",
    "a"
   ]
  },
  {
   "cell_type": "code",
   "execution_count": 4,
   "id": "230a9f83-829d-4a97-88bd-ee57d50a5b24",
   "metadata": {},
   "outputs": [],
   "source": [
    "txt = 'Thông tin chi tiết về chương trình và các đóng góp của đối tác cùng khách hàng được FPT Long Châu công bố chính thức tại: https://nhathuoclongchau.com.vn/vi-cong-dong/chien-binh-nhi.'"
   ]
  },
  {
   "cell_type": "code",
   "execution_count": 57,
   "id": "464ddd3b-02f9-4463-a4a7-dd88a73ea709",
   "metadata": {},
   "outputs": [
    {
     "data": {
      "text/plain": [
       "'ngay bên cạnh dự án này là khu du lịch hòn ngọc á châu ven biển đà nẵng có diện tích 12ha, vốn đầu tư 4.800 tỷ đồng, được cấp chứng nhận vào năm 2009 do công ty cp hòn ngọc á châu làm chủ đầu tư!. theo quy hoạch, dự án gồm cụm resort, biệt thự, nhà hàng, khách sạn 5 sao 18 tầng với vốn đầu tư 20 triệu usd. tuy nhiên, do gặp các vấn đề liên quan đến thủ tục pháp lý, dự án đã dừng triển khai nhiều năm qua... @#cả chục dãy dài biệt thự xây xong phần thô rồi bỏ mặc cỏ dại phủ kín trông như những căn biệt thự ma.'"
      ]
     },
     "execution_count": 57,
     "metadata": {},
     "output_type": "execute_result"
    }
   ],
   "source": [
    "txt.lower()"
   ]
  },
  {
   "cell_type": "code",
   "execution_count": 6,
   "id": "e95d6a31-8e92-4d4f-bd7b-b197dd6b6a47",
   "metadata": {},
   "outputs": [
    {
     "data": {
      "text/plain": [
       "'!\"#$%&\\'()*+,-./:;<=>?@[\\\\]^_`{|}~'"
      ]
     },
     "execution_count": 6,
     "metadata": {},
     "output_type": "execute_result"
    }
   ],
   "source": [
    "string.punctuation"
   ]
  },
  {
   "cell_type": "code",
   "execution_count": 5,
   "id": "c11ac136-828d-493b-9d1d-0f953bff4b8a",
   "metadata": {},
   "outputs": [
    {
     "data": {
      "text/plain": [
       "'Thông tin chi tiết về chương trình và các đóng góp của đối tác cùng khách hàng được FPT Long Châu công bố chính thức tại httpsnhathuoclongchaucomvnvicongdongchienbinhnhi'"
      ]
     },
     "execution_count": 5,
     "metadata": {},
     "output_type": "execute_result"
    }
   ],
   "source": [
    "for r in string.punctuation:\n",
    "    txt = txt.replace(r, '')\n",
    "txt"
   ]
  },
  {
   "cell_type": "code",
   "execution_count": 58,
   "id": "12788b43-62fa-4c3e-9d51-93f365ea420d",
   "metadata": {},
   "outputs": [
    {
     "data": {
      "text/plain": [
       "['ngay bên cạnh dự án này là khu du lịch hòn ngọc á châu ven biển đà nẵng có diện tích 12ha, vốn đầu tư 4.800 tỷ đồng, được cấp chứng nhận vào năm 2009 do công ty cp hòn ngọc á châu làm chủ đầu tư!.',\n",
       " 'theo quy hoạch, dự án gồm cụm resort, biệt thự, nhà hàng, khách sạn 5 sao 18 tầng với vốn đầu tư 20 triệu usd.',\n",
       " 'tuy nhiên, do gặp các vấn đề liên quan đến thủ tục pháp lý, dự án đã dừng triển khai nhiều năm qua... @#cả chục dãy dài biệt thự xây xong phần thô rồi bỏ mặc cỏ dại phủ kín trông như những căn biệt thự ma.']"
      ]
     },
     "execution_count": 58,
     "metadata": {},
     "output_type": "execute_result"
    }
   ],
   "source": [
    "sent_tokenize(txt.lower())"
   ]
  },
  {
   "cell_type": "code",
   "execution_count": 94,
   "id": "037e2751-e74f-46c4-b76c-030c4a633294",
   "metadata": {},
   "outputs": [],
   "source": [
    "stra = \"dự án đã dừng triển khai .. nhiều &năm qua#.. dfdgl ldfgjld fdgldjgd .\""
   ]
  },
  {
   "cell_type": "code",
   "execution_count": 95,
   "id": "fa2e322a-27f5-4269-8aa4-ac8768be2d7e",
   "metadata": {},
   "outputs": [
    {
     "data": {
      "text/plain": [
       "['dự án',\n",
       " 'đã',\n",
       " 'dừng',\n",
       " 'triển khai',\n",
       " '..',\n",
       " 'nhiều',\n",
       " '&',\n",
       " 'năm',\n",
       " 'qua',\n",
       " '#',\n",
       " '..',\n",
       " 'dfdgl',\n",
       " 'ldfgjld',\n",
       " 'fdgldjgd',\n",
       " '.',\n",
       " '11',\n",
       " '55']"
      ]
     },
     "execution_count": 95,
     "metadata": {},
     "output_type": "execute_result"
    }
   ],
   "source": [
    "a = word_tokenize(stra)\n",
    "a.extend(['11', '55'])\n",
    "a"
   ]
  },
  {
   "cell_type": "code",
   "execution_count": 100,
   "id": "fc60a255-bef1-419b-bb38-cd8ca0140549",
   "metadata": {},
   "outputs": [],
   "source": [
    "txt2 = \"- Ba là, về điều hành, kiểm soát giá xăng dầu: do giá xăng dầu chịu tác động mạnh từ căng thẳng Nga - Ukraina, cũng như có ảnh hưởng lớn đối với nền kinh tế Việt Nam, TS. Cấn Văn Lực và Nhóm tác giả Viện Đào tạo và Nghiên cứu BIDV kiến nghị: (i) Bộ Công thương phối hợp cùng các cơ quan liên quan có giải pháp tổng thể đảm bảo nguồn cung xăng dầu (gồm cả trong nước và nhập khẩu); điều tiết hệ thống phân phối, tránh đứt đoạn nguồn cung, ảnh hưởng tới đời sống người dân và hoạt động sản xuất, kinh doanh của doanh nghiệp; đề xuất tăng tần suất điều chỉnh giá xăng dầu (thay vì 10 ngày như hiện nay); (ii) Chính phủ chỉ đạo rà soát, đánh giá và đề xuất phương án phù hợp đối với việc điều hành Quỹ bình ổn giá xăng dầu (cân nhắc cả phương án có nên duy trì hay không, giải pháp thay thế…); (iii) Về lâu dài, có chiến lược tăng tính tự cường, nhất là phát triển năng lượng tái tạo, tăng năng lực dự trữ và năng lực phân tích, dự báo trên cơ sở thông tin, dữ liệu và khoa học hơn.\""
   ]
  },
  {
   "cell_type": "code",
   "execution_count": 107,
   "id": "8ffb2c72-cca4-448f-814a-2777dfca9642",
   "metadata": {},
   "outputs": [
    {
     "data": {
      "text/plain": [
       "['- Ba là, về điều hành, kiểm soát giá xăng dầu.',\n",
       " 'do giá xăng dầu chịu tác động mạnh từ căng thẳng Nga - Ukraina, cũng như có ảnh hưởng lớn đối với nền kinh tế Việt Nam, TS. Cấn Văn Lực và Nhóm tác giả Viện Đào tạo và Nghiên cứu BIDV kiến nghị.',\n",
       " 'Bộ Công thương phối hợp cùng các cơ quan liên quan có giải pháp tổng thể đảm bảo nguồn cung xăng dầu (gồm cả trong nước và nhập khẩu).',\n",
       " 'điều tiết hệ thống phân phối, tránh đứt đoạn nguồn cung, ảnh hưởng tới đời sống người dân và hoạt động sản xuất, kinh doanh của doanh nghiệp.',\n",
       " 'đề xuất tăng tần suất điều chỉnh giá xăng dầu (thay vì 10 ngày như hiện nay).',\n",
       " 'Chính phủ chỉ đạo rà soát, đánh giá và đề xuất phương án phù hợp đối với việc điều hành Quỹ bình ổn giá xăng dầu (cân nhắc cả phương án có nên duy trì hay không, giải pháp thay thế…).',\n",
       " 'Về lâu dài, có chiến lược tăng tính tự cường, nhất là phát triển năng lượng tái tạo, tăng năng lực dự trữ và năng lực phân tích, dự báo trên cơ sở thông tin, dữ liệu và khoa học hơn.']"
      ]
     },
     "execution_count": 107,
     "metadata": {},
     "output_type": "execute_result"
    }
   ],
   "source": [
    "special_pattern = {\n",
    "    '...': '. ',\n",
    "    '...v.v.': '. ',\n",
    "    '... v.v': '. ',\n",
    "    'v.v.': '. ',\n",
    "    'v.v': '. ',\n",
    "    '..': '. ',\n",
    "    '....': '. ',\n",
    "    ':': '. ',\n",
    "    ';': '. ',\n",
    "    '(i)': '',\n",
    "    '(ii)': '',\n",
    "    '(iii)': '',\n",
    "    '(iv)': '',\n",
    "    '(v)': '',\n",
    "    '(vi)': '',\n",
    "    '(vii)': '',\n",
    "    '(viii)': '',\n",
    "    '(ix)': '',\n",
    "    '(x)': ''\n",
    "}\n",
    "for k, v in special_pattern.items():\n",
    "    txt2 = txt2.replace(k, v)\n",
    "sent_tokenize(txt2)"
   ]
  },
  {
   "cell_type": "code",
   "execution_count": 3,
   "id": "1c80f32e-64a7-4f09-987b-07e4b662c6fe",
   "metadata": {},
   "outputs": [
    {
     "data": {
      "text/plain": [
       "['Hồi',\n",
       " 'đầu',\n",
       " 'năm',\n",
       " ',',\n",
       " 'công ty',\n",
       " 'cũng',\n",
       " 'công bố',\n",
       " 'hoàn thành',\n",
       " 'vòng',\n",
       " 'gọi',\n",
       " 'vốn',\n",
       " 'Series D',\n",
       " ',',\n",
       " 'với',\n",
       " 'sự',\n",
       " 'tham gia',\n",
       " 'của',\n",
       " 'các',\n",
       " 'nhà đầu tư',\n",
       " 'đang',\n",
       " 'là',\n",
       " 'cổ đông',\n",
       " 'hiện hữu',\n",
       " 'bao gồm',\n",
       " 'Warburg Pincus',\n",
       " ',',\n",
       " 'Affirma Capital',\n",
       " 'và',\n",
       " 'Tybourne',\n",
       " 'Capital Management',\n",
       " '.']"
      ]
     },
     "execution_count": 3,
     "metadata": {},
     "output_type": "execute_result"
    }
   ],
   "source": [
    "word_tokenize(\"Hồi đầu năm, công ty cũng công bố hoàn thành vòng gọi vốn Series D, với sự tham gia của các nhà đầu tư đang là cổ đông hiện hữu bao gồm Warburg Pincus, Affirma Capital và Tybourne Capital Management.\")"
   ]
  },
  {
   "cell_type": "code",
   "execution_count": 45,
   "id": "5f6260af-b0a3-4488-983b-de61b188418c",
   "metadata": {},
   "outputs": [],
   "source": [
    "def origin_sentence(src_text:str) -> str:\n",
    "    patterns = {\n",
    "        '_': ' ',\n",
    "        ' ,': ',',\n",
    "        ' .': '.',\n",
    "        ' ?': '?',\n",
    "        ' :': ':'\n",
    "    }\n",
    "    for k, v in patterns.items():\n",
    "        text = text.replace(k, v)\n",
    "\n",
    "    # Capitalize the first char of the word after dot sign\n",
    "    i = text.find('. ')\n",
    "    if i != -1:\n",
    "        while True:\n",
    "            i += 2\n",
    "            if i < len(text):\n",
    "                text = text[:i] + text[i].capitalize() + text[(i + 1):]\n",
    "            i = text.find('. ', i)\n",
    "            if i == -1:\n",
    "                break\n",
    "    text = text[0].capitalize() + text[1:]\n",
    "    return text"
   ]
  },
  {
   "cell_type": "code",
   "execution_count": 46,
   "id": "1a45fdb8-697d-461d-918b-8029f5990046",
   "metadata": {},
   "outputs": [],
   "source": [
    "txt1 = \"để được tư_vấn , hỗ_trợ tìm_hiểu chi_tiết các sản_phẩm tiềm_năng , khách_hàng vui_lòng liên_hệ việt_nhân bình_dương .\"\n",
    "txt2 = \"phú_quốc – những con_số biết nói . để được tư_vấn , hỗ_trợ tìm_hiểu chi_tiết các sản_phẩm tiềm_năng . khách_hàng vui_lòng liên_hệ việt_nhân bình_dương . số_liệu từ sở du_lịch tỉnh kiên_giang cho biết , trong 2 tháng đầu năm 2024 , lượng khách du_lịch đến phú_quốc tăng đột_biến .\""
   ]
  },
  {
   "cell_type": "code",
   "execution_count": 49,
   "id": "83197628-cb0b-42c0-9336-103975eaed93",
   "metadata": {},
   "outputs": [
    {
     "name": "stdout",
     "output_type": "stream",
     "text": [
      "để được tư_vấn , hỗ_trợ tìm_hiểu chi_tiết các sản_phẩm tiềm_năng , khách_hàng vui_lòng liên_hệ việt_nhân bình_dương .\n"
     ]
    },
    {
     "data": {
      "text/plain": [
       "'Để được tư vấn, hỗ trợ tìm hiểu chi tiết các sản phẩm tiềm năng, khách hàng vui lòng liên hệ việt nhân bình dương.'"
      ]
     },
     "execution_count": 49,
     "metadata": {},
     "output_type": "execute_result"
    }
   ],
   "source": [
    "print(txt1)\n",
    "origin_sentence(txt1)"
   ]
  },
  {
   "cell_type": "code",
   "execution_count": 1,
   "id": "28b50562-6c93-48c0-b755-0142b7457910",
   "metadata": {},
   "outputs": [
    {
     "data": {
      "text/plain": [
       "1"
      ]
     },
     "execution_count": 1,
     "metadata": {},
     "output_type": "execute_result"
    }
   ],
   "source": [
    "\"Hello World\".count(\" \")"
   ]
  },
  {
   "cell_type": "code",
   "execution_count": 4,
   "id": "e2905a8c-04e2-41c2-ae5e-1d9c6ceba02e",
   "metadata": {},
   "outputs": [
    {
     "data": {
      "text/plain": [
       "tensor([2])"
      ]
     },
     "execution_count": 4,
     "metadata": {},
     "output_type": "execute_result"
    }
   ],
   "source": [
    "pad = torch.tensor([2], dtype=torch.int64)\n",
    "pad"
   ]
  },
  {
   "cell_type": "code",
   "execution_count": 7,
   "id": "8824fe27-d7fe-4acb-90e4-9a2eac8c0e93",
   "metadata": {},
   "outputs": [
    {
     "data": {
      "text/plain": [
       "tensor([2, 2, 2, 2, 2, 2, 2, 2, 2, 2])"
      ]
     },
     "execution_count": 7,
     "metadata": {},
     "output_type": "execute_result"
    }
   ],
   "source": [
    "torch.tensor([2] * 10, dtype=torch.int64)"
   ]
  },
  {
   "cell_type": "code",
   "execution_count": 9,
   "id": "2655b50d-79c5-4f2b-b7b5-af6ecc93f303",
   "metadata": {},
   "outputs": [],
   "source": [
    "A = [1,5,9,0,4,67,12]"
   ]
  },
  {
   "cell_type": "code",
   "execution_count": 2,
   "id": "ea5c3979-a7e9-4b75-bc17-5fcb01d890f5",
   "metadata": {},
   "outputs": [
    {
     "data": {
      "text/plain": [
       "67"
      ]
     },
     "execution_count": 2,
     "metadata": {},
     "output_type": "execute_result"
    }
   ],
   "source": [
    "max(A)"
   ]
  },
  {
   "cell_type": "code",
   "execution_count": 4,
   "id": "387a4165-210a-4f7e-b492-b12d942586e5",
   "metadata": {},
   "outputs": [
    {
     "data": {
      "text/plain": [
       "67"
      ]
     },
     "execution_count": 4,
     "metadata": {},
     "output_type": "execute_result"
    }
   ],
   "source": [
    "max([i for i in A])"
   ]
  },
  {
   "cell_type": "code",
   "execution_count": 15,
   "id": "b7daa76b-a7a6-4372-ab47-be6208b26158",
   "metadata": {},
   "outputs": [],
   "source": [
    "tokens = torch.full((5, 10), 2, dtype=torch.int64)\n",
    "tokens[0, : len(A)] = torch.tensor(A)"
   ]
  },
  {
   "cell_type": "code",
   "execution_count": 70,
   "id": "af9ffc46-b319-4246-950b-b8b3797aa878",
   "metadata": {},
   "outputs": [
    {
     "data": {
      "text/plain": [
       "tensor([[1, 1, 1, 1, 1, 1, 1, 0, 0, 0],\n",
       "        [0, 0, 0, 0, 0, 0, 0, 0, 0, 0],\n",
       "        [0, 0, 0, 0, 0, 0, 0, 0, 0, 0],\n",
       "        [0, 0, 0, 0, 0, 0, 0, 0, 0, 0],\n",
       "        [0, 0, 0, 0, 0, 0, 0, 0, 0, 0]], dtype=torch.int32)"
      ]
     },
     "execution_count": 70,
     "metadata": {},
     "output_type": "execute_result"
    }
   ],
   "source": [
    "mask_padding = (tokens != 2).int()\n",
    "mask_padding"
   ]
  },
  {
   "cell_type": "code",
   "execution_count": 71,
   "id": "79d65dd4-e55b-4e79-b13f-4ee9c409bcfc",
   "metadata": {},
   "outputs": [
    {
     "data": {
      "text/plain": [
       "tensor([[[ True, False, False, False, False, False, False, False, False, False],\n",
       "         [ True,  True, False, False, False, False, False, False, False, False],\n",
       "         [ True,  True,  True, False, False, False, False, False, False, False],\n",
       "         [ True,  True,  True,  True, False, False, False, False, False, False],\n",
       "         [ True,  True,  True,  True,  True, False, False, False, False, False],\n",
       "         [ True,  True,  True,  True,  True,  True, False, False, False, False],\n",
       "         [ True,  True,  True,  True,  True,  True,  True, False, False, False],\n",
       "         [ True,  True,  True,  True,  True,  True,  True,  True, False, False],\n",
       "         [ True,  True,  True,  True,  True,  True,  True,  True,  True, False],\n",
       "         [ True,  True,  True,  True,  True,  True,  True,  True,  True,  True]]])"
      ]
     },
     "execution_count": 71,
     "metadata": {},
     "output_type": "execute_result"
    }
   ],
   "source": [
    "mask = torch.tril(torch.ones(1, 10, 10)).bool()\n",
    "mask"
   ]
  },
  {
   "cell_type": "code",
   "execution_count": 74,
   "id": "27be27b9-db76-47ed-ab3f-5a922ce679c6",
   "metadata": {},
   "outputs": [
    {
     "data": {
      "text/plain": [
       "tensor([[[[1, 0, 0, 0, 0, 0, 0, 0, 0, 0],\n",
       "          [1, 1, 0, 0, 0, 0, 0, 0, 0, 0],\n",
       "          [1, 1, 1, 0, 0, 0, 0, 0, 0, 0],\n",
       "          [1, 1, 1, 1, 0, 0, 0, 0, 0, 0],\n",
       "          [1, 1, 1, 1, 1, 0, 0, 0, 0, 0],\n",
       "          [1, 1, 1, 1, 1, 1, 0, 0, 0, 0],\n",
       "          [1, 1, 1, 1, 1, 1, 1, 0, 0, 0],\n",
       "          [1, 1, 1, 1, 1, 1, 1, 0, 0, 0],\n",
       "          [1, 1, 1, 1, 1, 1, 1, 0, 0, 0],\n",
       "          [1, 1, 1, 1, 1, 1, 1, 0, 0, 0]]],\n",
       "\n",
       "\n",
       "        [[[0, 0, 0, 0, 0, 0, 0, 0, 0, 0],\n",
       "          [0, 0, 0, 0, 0, 0, 0, 0, 0, 0],\n",
       "          [0, 0, 0, 0, 0, 0, 0, 0, 0, 0],\n",
       "          [0, 0, 0, 0, 0, 0, 0, 0, 0, 0],\n",
       "          [0, 0, 0, 0, 0, 0, 0, 0, 0, 0],\n",
       "          [0, 0, 0, 0, 0, 0, 0, 0, 0, 0],\n",
       "          [0, 0, 0, 0, 0, 0, 0, 0, 0, 0],\n",
       "          [0, 0, 0, 0, 0, 0, 0, 0, 0, 0],\n",
       "          [0, 0, 0, 0, 0, 0, 0, 0, 0, 0],\n",
       "          [0, 0, 0, 0, 0, 0, 0, 0, 0, 0]]],\n",
       "\n",
       "\n",
       "        [[[0, 0, 0, 0, 0, 0, 0, 0, 0, 0],\n",
       "          [0, 0, 0, 0, 0, 0, 0, 0, 0, 0],\n",
       "          [0, 0, 0, 0, 0, 0, 0, 0, 0, 0],\n",
       "          [0, 0, 0, 0, 0, 0, 0, 0, 0, 0],\n",
       "          [0, 0, 0, 0, 0, 0, 0, 0, 0, 0],\n",
       "          [0, 0, 0, 0, 0, 0, 0, 0, 0, 0],\n",
       "          [0, 0, 0, 0, 0, 0, 0, 0, 0, 0],\n",
       "          [0, 0, 0, 0, 0, 0, 0, 0, 0, 0],\n",
       "          [0, 0, 0, 0, 0, 0, 0, 0, 0, 0],\n",
       "          [0, 0, 0, 0, 0, 0, 0, 0, 0, 0]]],\n",
       "\n",
       "\n",
       "        [[[0, 0, 0, 0, 0, 0, 0, 0, 0, 0],\n",
       "          [0, 0, 0, 0, 0, 0, 0, 0, 0, 0],\n",
       "          [0, 0, 0, 0, 0, 0, 0, 0, 0, 0],\n",
       "          [0, 0, 0, 0, 0, 0, 0, 0, 0, 0],\n",
       "          [0, 0, 0, 0, 0, 0, 0, 0, 0, 0],\n",
       "          [0, 0, 0, 0, 0, 0, 0, 0, 0, 0],\n",
       "          [0, 0, 0, 0, 0, 0, 0, 0, 0, 0],\n",
       "          [0, 0, 0, 0, 0, 0, 0, 0, 0, 0],\n",
       "          [0, 0, 0, 0, 0, 0, 0, 0, 0, 0],\n",
       "          [0, 0, 0, 0, 0, 0, 0, 0, 0, 0]]],\n",
       "\n",
       "\n",
       "        [[[0, 0, 0, 0, 0, 0, 0, 0, 0, 0],\n",
       "          [0, 0, 0, 0, 0, 0, 0, 0, 0, 0],\n",
       "          [0, 0, 0, 0, 0, 0, 0, 0, 0, 0],\n",
       "          [0, 0, 0, 0, 0, 0, 0, 0, 0, 0],\n",
       "          [0, 0, 0, 0, 0, 0, 0, 0, 0, 0],\n",
       "          [0, 0, 0, 0, 0, 0, 0, 0, 0, 0],\n",
       "          [0, 0, 0, 0, 0, 0, 0, 0, 0, 0],\n",
       "          [0, 0, 0, 0, 0, 0, 0, 0, 0, 0],\n",
       "          [0, 0, 0, 0, 0, 0, 0, 0, 0, 0],\n",
       "          [0, 0, 0, 0, 0, 0, 0, 0, 0, 0]]]], dtype=torch.int32)"
      ]
     },
     "execution_count": 74,
     "metadata": {},
     "output_type": "execute_result"
    }
   ],
   "source": [
    "torch.stack([i & mask for i in mask_padding], dim=0)  "
   ]
  },
  {
   "cell_type": "code",
   "execution_count": 73,
   "id": "935533d2-3b34-4595-9357-b1b864b3b7b2",
   "metadata": {},
   "outputs": [
    {
     "data": {
      "text/plain": [
       "tensor([[[1, 0, 0, 0, 0, 0, 0, 0, 0, 0],\n",
       "         [1, 1, 0, 0, 0, 0, 0, 0, 0, 0],\n",
       "         [1, 1, 1, 0, 0, 0, 0, 0, 0, 0],\n",
       "         [1, 1, 1, 1, 0, 0, 0, 0, 0, 0],\n",
       "         [1, 1, 1, 1, 1, 0, 0, 0, 0, 0],\n",
       "         [1, 1, 1, 1, 1, 1, 0, 0, 0, 0],\n",
       "         [1, 1, 1, 1, 1, 1, 1, 0, 0, 0],\n",
       "         [1, 1, 1, 1, 1, 1, 1, 0, 0, 0],\n",
       "         [1, 1, 1, 1, 1, 1, 1, 0, 0, 0],\n",
       "         [1, 1, 1, 1, 1, 1, 1, 0, 0, 0]],\n",
       "\n",
       "        [[0, 0, 0, 0, 0, 0, 0, 0, 0, 0],\n",
       "         [0, 0, 0, 0, 0, 0, 0, 0, 0, 0],\n",
       "         [0, 0, 0, 0, 0, 0, 0, 0, 0, 0],\n",
       "         [0, 0, 0, 0, 0, 0, 0, 0, 0, 0],\n",
       "         [0, 0, 0, 0, 0, 0, 0, 0, 0, 0],\n",
       "         [0, 0, 0, 0, 0, 0, 0, 0, 0, 0],\n",
       "         [0, 0, 0, 0, 0, 0, 0, 0, 0, 0],\n",
       "         [0, 0, 0, 0, 0, 0, 0, 0, 0, 0],\n",
       "         [0, 0, 0, 0, 0, 0, 0, 0, 0, 0],\n",
       "         [0, 0, 0, 0, 0, 0, 0, 0, 0, 0]],\n",
       "\n",
       "        [[0, 0, 0, 0, 0, 0, 0, 0, 0, 0],\n",
       "         [0, 0, 0, 0, 0, 0, 0, 0, 0, 0],\n",
       "         [0, 0, 0, 0, 0, 0, 0, 0, 0, 0],\n",
       "         [0, 0, 0, 0, 0, 0, 0, 0, 0, 0],\n",
       "         [0, 0, 0, 0, 0, 0, 0, 0, 0, 0],\n",
       "         [0, 0, 0, 0, 0, 0, 0, 0, 0, 0],\n",
       "         [0, 0, 0, 0, 0, 0, 0, 0, 0, 0],\n",
       "         [0, 0, 0, 0, 0, 0, 0, 0, 0, 0],\n",
       "         [0, 0, 0, 0, 0, 0, 0, 0, 0, 0],\n",
       "         [0, 0, 0, 0, 0, 0, 0, 0, 0, 0]],\n",
       "\n",
       "        [[0, 0, 0, 0, 0, 0, 0, 0, 0, 0],\n",
       "         [0, 0, 0, 0, 0, 0, 0, 0, 0, 0],\n",
       "         [0, 0, 0, 0, 0, 0, 0, 0, 0, 0],\n",
       "         [0, 0, 0, 0, 0, 0, 0, 0, 0, 0],\n",
       "         [0, 0, 0, 0, 0, 0, 0, 0, 0, 0],\n",
       "         [0, 0, 0, 0, 0, 0, 0, 0, 0, 0],\n",
       "         [0, 0, 0, 0, 0, 0, 0, 0, 0, 0],\n",
       "         [0, 0, 0, 0, 0, 0, 0, 0, 0, 0],\n",
       "         [0, 0, 0, 0, 0, 0, 0, 0, 0, 0],\n",
       "         [0, 0, 0, 0, 0, 0, 0, 0, 0, 0]],\n",
       "\n",
       "        [[0, 0, 0, 0, 0, 0, 0, 0, 0, 0],\n",
       "         [0, 0, 0, 0, 0, 0, 0, 0, 0, 0],\n",
       "         [0, 0, 0, 0, 0, 0, 0, 0, 0, 0],\n",
       "         [0, 0, 0, 0, 0, 0, 0, 0, 0, 0],\n",
       "         [0, 0, 0, 0, 0, 0, 0, 0, 0, 0],\n",
       "         [0, 0, 0, 0, 0, 0, 0, 0, 0, 0],\n",
       "         [0, 0, 0, 0, 0, 0, 0, 0, 0, 0],\n",
       "         [0, 0, 0, 0, 0, 0, 0, 0, 0, 0],\n",
       "         [0, 0, 0, 0, 0, 0, 0, 0, 0, 0],\n",
       "         [0, 0, 0, 0, 0, 0, 0, 0, 0, 0]]], dtype=torch.int32)"
      ]
     },
     "execution_count": 73,
     "metadata": {},
     "output_type": "execute_result"
    }
   ],
   "source": [
    "torch.cat([i & mask for i in mask_padding], dim=0)  "
   ]
  }
 ],
 "metadata": {
  "kernelspec": {
   "display_name": "Python 3 (ipykernel)",
   "language": "python",
   "name": "python3"
  },
  "language_info": {
   "codemirror_mode": {
    "name": "ipython",
    "version": 3
   },
   "file_extension": ".py",
   "mimetype": "text/x-python",
   "name": "python",
   "nbconvert_exporter": "python",
   "pygments_lexer": "ipython3",
   "version": "3.11.8"
  }
 },
 "nbformat": 4,
 "nbformat_minor": 5
}
